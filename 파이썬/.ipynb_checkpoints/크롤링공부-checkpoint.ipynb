{
 "cells": [
  {
   "cell_type": "markdown",
   "metadata": {
    "id": "UsZSmAj47LXm",
    "slideshow": {
     "slide_type": "slide"
    }
   },
   "source": [
    "# **데이터 크롤링**"
   ]
  },
  {
   "cell_type": "markdown",
   "metadata": {
    "id": "qGMeSCoV7QTQ",
    "slideshow": {
     "slide_type": "slide"
    }
   },
   "source": [
    "## **1. 크롤링이란?**\n",
    "    크롤러(crawler)는 자동화된 방법으로 웹을 탐색하는 컴퓨터 프로그램\n",
    "\n",
    "    '웹 크롤링'(web crawling)??\n",
    "    \n",
    "    '데이터 크롤링'(data crawling)!!"
   ]
  },
  {
   "cell_type": "markdown",
   "metadata": {
    "id": "WboqZ6A47Yqe",
    "slideshow": {
     "slide_type": "slide"
    }
   },
   "source": [
    "    우리는 매일 크롤러도 사용하고 있습니다."
   ]
  },
  {
   "cell_type": "markdown",
   "metadata": {
    "id": "5PfW0HG17td5",
    "slideshow": {
     "slide_type": "slide"
    }
   },
   "source": [
    "## **2. 웹 크롤링**\n",
    "    웹 서비스 내 정보를 수집하는 일\n",
    "    \n",
    "    필요한 정보가 있다면?\n",
    "    API 확인 -> 없으면 직접 크롤링\n",
    "    \n",
    "    다만 서비스 제공자의 입장에서는??"
   ]
  },
  {
   "cell_type": "markdown",
   "metadata": {
    "id": "e0ITGMAN70Da",
    "slideshow": {
     "slide_type": "slide"
    }
   },
   "source": [
    "### 웹 서핑을 하는 의식의 흐름\n",
    "    브라우저 오픈\n",
    "    원하는 인터넷페이지 주소 입력\n",
    "    화면이 열리면 찾고자 하는 정보를 스크롤 하면서 찾기\n",
    "    문자, 그림, 동영상 조회"
   ]
  },
  {
   "cell_type": "markdown",
   "metadata": {
    "id": "AWcggzcG728P",
    "slideshow": {
     "slide_type": "slide"
    }
   },
   "source": [
    "### 웹 크롤링 하는 의식의 흐름\n",
    "    정보를 가져오고자 하는 url 정의\n",
    "    url 정보로 requests로 정보 요청\n",
    "    text 정보를 html로 변환\n",
    "    html에서 우리가 필요한 정보만 선별"
   ]
  },
  {
   "cell_type": "markdown",
   "metadata": {
    "id": "XT464CpR75Uh",
    "slideshow": {
     "slide_type": "slide"
    }
   },
   "source": [
    "### 웹 크롤링을 위해 BeautifulSoup 사용\n",
    "    requests는 요청을 받기는 하지만 text로만 받음\n",
    "    API는 통신을 위해 정형화 된 데이터 형태의 text\n",
    "    우리가 원하는 데이터로 가공하기 위해 편의상 html로 변환\n",
    "    text를 html로 변환하는 모듈이 beautifulSoup"
   ]
  },
  {
   "cell_type": "markdown",
   "metadata": {
    "id": "5j1oR5fO78FW",
    "slideshow": {
     "slide_type": "slide"
    }
   },
   "source": [
    "### 간단한 데이터 크롤링으로 기본 개념잡기"
   ]
  },
  {
   "cell_type": "code",
   "execution_count": 1,
   "metadata": {
    "ExecuteTime": {
     "end_time": "2021-02-03T02:35:06.532637Z",
     "start_time": "2021-02-03T02:35:06.312281Z"
    }
   },
   "outputs": [
    {
     "data": {
      "text/plain": [
       "[<img alt=\"\" height=\"49\" src=\"https://static-whale.pstatic.net/main/img_darkmode@2x.png\" style=\"padding-left: 48px;\" width=\"303\"/>,\n",
       " <img alt=\"한국수어의 날\" class=\"special_img\" height=\"160\" src=\"https://s.pstatic.net/static/www/mobile/edit/2021/0202/mobile_19413044811.gif\" width=\"415\"/>,\n",
       " <img alt=\"한국수어의 날\" class=\"special_img_fold\" height=\"60\" src=\"https://s.pstatic.net/static/www/mobile/edit/2021/0202/mobile_194148164738.png\" width=\"58\"/>,\n",
       " <img alt=\"한국경제TV\" class=\"news_logo\" height=\"20\" src=\"https://s.pstatic.net/static/newsstand/2020/logo/light/0604/215.png\"/>,\n",
       " <img alt=\"프레시안\" class=\"news_logo\" height=\"20\" src=\"https://s.pstatic.net/static/newsstand/2020/logo/light/0604/002.png\"/>,\n",
       " <img alt=\"문화일보\" class=\"news_logo\" height=\"20\" src=\"https://s.pstatic.net/static/newsstand/2020/logo/light/0604/021.png\"/>,\n",
       " <img alt=\"연합뉴스TV\" class=\"news_logo\" height=\"20\" src=\"https://s.pstatic.net/static/newsstand/2020/logo/light/0604/422.png\"/>,\n",
       " <img alt=\"KBS\" class=\"news_logo\" height=\"20\" src=\"https://s.pstatic.net/static/newsstand/2020/logo/light/0604/056.png\"/>,\n",
       " <img alt=\"미디어오늘\" class=\"news_logo\" height=\"20\" src=\"https://s.pstatic.net/static/newsstand/2020/logo/light/0604/006.png\"/>,\n",
       " <img alt=\"SBS\" class=\"news_logo\" height=\"20\" src=\"https://s.pstatic.net/static/newsstand/2020/logo/light/0604/055.png\"/>,\n",
       " <img alt=\"파이낸셜뉴스\" class=\"news_logo\" height=\"20\" src=\"https://s.pstatic.net/static/newsstand/2020/logo/light/0604/014.png\"/>,\n",
       " <img alt=\"스포츠동아\" class=\"news_logo\" height=\"20\" src=\"https://s.pstatic.net/static/newsstand/2020/logo/light/0604/314.png\"/>,\n",
       " <img alt=\"조선비즈\" class=\"news_logo\" height=\"20\" src=\"https://s.pstatic.net/static/newsstand/2020/logo/light/0604/366.png\"/>,\n",
       " <img alt=\"아시아경제\" class=\"news_logo\" height=\"20\" src=\"https://s.pstatic.net/static/newsstand/2020/logo/light/0604/277.png\"/>,\n",
       " <img alt=\"지디넷코리아\" class=\"news_logo\" height=\"20\" src=\"https://s.pstatic.net/static/newsstand/2020/logo/light/0604/092.png\"/>,\n",
       " <img alt=\"전자신문\" class=\"news_logo\" height=\"20\" src=\"https://s.pstatic.net/static/newsstand/2020/logo/light/0604/030.png\"/>,\n",
       " <img alt=\"매일경제\" class=\"news_logo\" height=\"20\" src=\"https://s.pstatic.net/static/newsstand/2020/logo/light/0604/009.png\"/>,\n",
       " <img alt=\"세계일보\" class=\"news_logo\" height=\"20\" src=\"https://s.pstatic.net/static/newsstand/2020/logo/light/0604/022.png\"/>,\n",
       " <img alt=\"시사저널\" class=\"news_logo\" height=\"20\" src=\"https://s.pstatic.net/static/newsstand/2020/logo/light/0604/135.png\"/>,\n",
       " <img alt=\"시사저널이코노미\" class=\"news_logo\" height=\"20\" src=\"https://s.pstatic.net/static/newsstand/2020/logo/light/0604/975.png\"/>,\n",
       " <img alt=\"톱데일리\" class=\"news_logo\" height=\"20\" src=\"https://s.pstatic.net/static/newsstand/2020/logo/light/0604/826.png\"/>,\n",
       " <img alt=\"UPI뉴스\" class=\"news_logo\" height=\"20\" src=\"https://s.pstatic.net/static/newsstand/2020/logo/light/0604/823.png\"/>,\n",
       " <img alt=\"인벤\" class=\"news_logo\" height=\"20\" src=\"https://s.pstatic.net/static/newsstand/2020/logo/light/0604/924.png\"/>,\n",
       " <img alt=\"월간노동법률\" class=\"news_logo\" height=\"20\" src=\"https://s.pstatic.net/static/newsstand/2020/logo/light/0604/820.png\"/>,\n",
       " <img alt=\"뉴스1\" class=\"news_logo\" height=\"20\" src=\"https://s.pstatic.net/static/newsstand/2020/logo/light/0604/421.png\"/>,\n",
       " <img alt=\"신아일보\" class=\"news_logo\" height=\"20\" src=\"https://s.pstatic.net/static/newsstand/2020/logo/light/0604/810.png\"/>,\n",
       " <img alt=\"IT동아\" class=\"news_logo\" height=\"20\" src=\"https://s.pstatic.net/static/newsstand/2020/logo/light/0604/818.png\"/>,\n",
       " <img alt=\"어이없게 히트한 게임의 정체\" data-src=\"https://s.pstatic.net/static/www/mobile/edit/2021/0119/cropImg_728x360_52975242651514480.jpeg\" height=\"180\" src=\"https://s.pstatic.net/static/www/mobile/edit/2021/0119/cropImg_728x360_52975242651514480.jpeg\" width=\"364\"/>,\n",
       " <img alt=\"먼 옛날의 법은 어떤 내용이었을까?\" data-src=\"https://s.pstatic.net/static/www/mobile/edit/2021/0127/cropImg_196x196_53669643738129798.jpeg\" height=\"98\" src=\"https://s.pstatic.net/static/www/mobile/edit/2021/0127/cropImg_196x196_53669643738129798.jpeg\" width=\"98\"/>,\n",
       " <img alt=\"[국어퀴즈] 공감하며 대화해야 하는 까닭으로 알맞지 않은 것은?\" data-src=\"https://s.pstatic.net/static/www/mobile/edit/2021/0127/cropImg_196x196_53669728843176173.png\" height=\"98\" src=\"https://s.pstatic.net/static/www/mobile/edit/2021/0127/cropImg_196x196_53669728843176173.png\" width=\"98\"/>,\n",
       " <img alt=\"사람마다 물가를 다르게 느끼는 이유\" data-src=\"https://s.pstatic.net/static/www/mobile/edit/2021/0127/cropImg_196x196_53669754391664458.jpeg\" height=\"98\" src=\"https://s.pstatic.net/static/www/mobile/edit/2021/0127/cropImg_196x196_53669754391664458.jpeg\" width=\"98\"/>,\n",
       " <img alt=\"비 오는 날 넘어져 지각한 배달원을 울린 고객의 한마디\" data-src=\"https://s.pstatic.net/dthumb.phinf/?src=%22https%3A%2F%2Fs.pstatic.net%2Fstatic%2Fwww%2Fmobile%2Fedit%2F2021%2F0127%2Fupload_1611715522923GNVfS.jpg%22&amp;type=nf340_228\" height=\"114\" src=\"https://s.pstatic.net/dthumb.phinf/?src=%22https%3A%2F%2Fs.pstatic.net%2Fstatic%2Fwww%2Fmobile%2Fedit%2F2021%2F0127%2Fupload_1611715522923GNVfS.jpg%22&amp;type=nf340_228\" width=\"170\"/>,\n",
       " <img alt=\"도구에 따라 다른 매력! 드로잉에 푹 빠진 초등학생\" data-src=\"https://s.pstatic.net/dthumb.phinf/?src=%22https%3A%2F%2Fs.pstatic.net%2Fstatic%2Fwww%2Fmobile%2Fedit%2F2021%2F0127%2Fupload_1611728213342wJ2r9.jpg%22&amp;type=nf340_228\" height=\"114\" src=\"https://s.pstatic.net/dthumb.phinf/?src=%22https%3A%2F%2Fs.pstatic.net%2Fstatic%2Fwww%2Fmobile%2Fedit%2F2021%2F0127%2Fupload_1611728213342wJ2r9.jpg%22&amp;type=nf340_228\" width=\"170\"/>,\n",
       " <img alt=\"한국인? 외국인? 오묘한 매력을 가진 혼혈 스타\" data-src=\"https://s.pstatic.net/dthumb.phinf/?src=%22https%3A%2F%2Fs.pstatic.net%2Fstatic%2Fwww%2Fmobile%2Fedit%2F2021%2F0120%2Fupload_1611100825255W8z9h.jpg%22&amp;type=nf340_228\" height=\"114\" src=\"https://s.pstatic.net/dthumb.phinf/?src=%22https%3A%2F%2Fs.pstatic.net%2Fstatic%2Fwww%2Fmobile%2Fedit%2F2021%2F0120%2Fupload_1611100825255W8z9h.jpg%22&amp;type=nf340_228\" width=\"170\"/>,\n",
       " <img alt=\"수준급 실력까지! 미술과 사랑에 빠진 가수들\" data-src=\"https://s.pstatic.net/dthumb.phinf/?src=%22https%3A%2F%2Fs.pstatic.net%2Fstatic%2Fwww%2Fmobile%2Fedit%2F2021%2F0127%2Fupload_16117283055629GQzC.jpg%22&amp;type=nf340_228\" height=\"114\" src=\"https://s.pstatic.net/dthumb.phinf/?src=%22https%3A%2F%2Fs.pstatic.net%2Fstatic%2Fwww%2Fmobile%2Fedit%2F2021%2F0127%2Fupload_16117283055629GQzC.jpg%22&amp;type=nf340_228\" width=\"170\"/>,\n",
       " <img alt=\"졸업식 날, 아이들이 보고 싶었던 선생님의 편지\" data-src=\"https://s.pstatic.net/dthumb.phinf/?src=%22https%3A%2F%2Fs.pstatic.net%2Fstatic%2Fwww%2Fmobile%2Fedit%2F2021%2F0118%2Fupload_1610954983123jwArf.jpg%22&amp;type=nf340_228\" height=\"114\" src=\"https://s.pstatic.net/dthumb.phinf/?src=%22https%3A%2F%2Fs.pstatic.net%2Fstatic%2Fwww%2Fmobile%2Fedit%2F2021%2F0118%2Fupload_1610954983123jwArf.jpg%22&amp;type=nf340_228\" width=\"170\"/>,\n",
       " <img alt=\"볼수록 매력적인 사람들의 특징\" data-src=\"https://s.pstatic.net/dthumb.phinf/?src=%22https%3A%2F%2Fs.pstatic.net%2Fstatic%2Fwww%2Fmobile%2Fedit%2F2021%2F0129%2Fupload_1611887880909MVbzw.jpg%22&amp;type=nf340_228\" height=\"114\" src=\"https://s.pstatic.net/dthumb.phinf/?src=%22https%3A%2F%2Fs.pstatic.net%2Fstatic%2Fwww%2Fmobile%2Fedit%2F2021%2F0129%2Fupload_1611887880909MVbzw.jpg%22&amp;type=nf340_228\" width=\"170\"/>,\n",
       " <img alt=\"10대들이 위치추적 어플로 노는 법\" data-src=\"https://s.pstatic.net/dthumb.phinf/?src=%22https%3A%2F%2Fs.pstatic.net%2Fstatic%2Fwww%2Fmobile%2Fedit%2F2021%2F0120%2Fupload_1611101977832MFZp5.jpg%22&amp;type=nf340_228\" height=\"114\" src=\"https://s.pstatic.net/dthumb.phinf/?src=%22https%3A%2F%2Fs.pstatic.net%2Fstatic%2Fwww%2Fmobile%2Fedit%2F2021%2F0120%2Fupload_1611101977832MFZp5.jpg%22&amp;type=nf340_228\" width=\"170\"/>,\n",
       " <img alt=\"마음의 안정이 필요할 때 찾는 취미 '스도쿠'\" data-src=\"https://s.pstatic.net/dthumb.phinf/?src=%22https%3A%2F%2Fs.pstatic.net%2Fstatic%2Fwww%2Fmobile%2Fedit%2F2021%2F0127%2Fupload_1611728274959iWpUD.jpg%22&amp;type=nf340_228\" height=\"114\" src=\"https://s.pstatic.net/dthumb.phinf/?src=%22https%3A%2F%2Fs.pstatic.net%2Fstatic%2Fwww%2Fmobile%2Fedit%2F2021%2F0127%2Fupload_1611728274959iWpUD.jpg%22&amp;type=nf340_228\" width=\"170\"/>,\n",
       " <img alt=\"살아 움직일 것 같아! 만화, 애니메이션에서 영감 얻은 눈사람\" data-src=\"https://s.pstatic.net/dthumb.phinf/?src=%22https%3A%2F%2Fs.pstatic.net%2Fstatic%2Fwww%2Fmobile%2Fedit%2F2021%2F0127%2Fupload_16117266612237U4H1.jpg%22&amp;type=nf340_228\" height=\"114\" width=\"170\"/>,\n",
       " <img alt=\"발가락에 최악인 신발 모양\" data-src=\"https://s.pstatic.net/dthumb.phinf/?src=%22https%3A%2F%2Fs.pstatic.net%2Fstatic%2Fwww%2Fmobile%2Fedit%2F2021%2F0129%2Fupload_1611910421846gsuL6.jpg%22&amp;type=nf340_228\" height=\"114\" width=\"170\"/>,\n",
       " <img alt=\"일상에서 의외로 살찌게 만드는 4가지 행동 습관\" data-src=\"https://s.pstatic.net/dthumb.phinf/?src=%22https%3A%2F%2Fs.pstatic.net%2Fstatic%2Fwww%2Fmobile%2Fedit%2F2021%2F0127%2Fupload_1611715165528v2tK4.jpg%22&amp;type=nf340_228\" height=\"114\" width=\"170\"/>,\n",
       " <img alt=\"졸업생 전원에게 '태블릿 노트북' 선물한 중학교\" data-src=\"https://s.pstatic.net/dthumb.phinf/?src=%22https%3A%2F%2Fs.pstatic.net%2Fstatic%2Fwww%2Fmobile%2Fedit%2F2021%2F0127%2Fupload_1611727194871T2sUa.jpg%22&amp;type=nf340_228\" height=\"114\" width=\"170\"/>,\n",
       " <img alt=\"집에서 영화·드라마 무제한 보는 OTT 서비스, 대체 뭘까?\" data-src=\"https://s.pstatic.net/dthumb.phinf/?src=%22https%3A%2F%2Fs.pstatic.net%2Fstatic%2Fwww%2Fmobile%2Fedit%2F2021%2F0127%2Fupload_1611715601944qVRkV.jpg%22&amp;type=nf340_228\" height=\"114\" width=\"170\"/>,\n",
       " <img alt=\"인류의 역사를 뒤바꾼 최악의 실수 BEST3\" data-src=\"https://s.pstatic.net/dthumb.phinf/?src=%22https%3A%2F%2Fs.pstatic.net%2Fstatic%2Fwww%2Fmobile%2Fedit%2F2021%2F0127%2Fupload_1611724510821wTkOO.jpg%22&amp;type=nf340_228\" height=\"114\" width=\"170\"/>,\n",
       " <img alt=\"스마트폰을 이용한 공부법\" data-src=\"https://s.pstatic.net/dthumb.phinf/?src=%22https%3A%2F%2Fs.pstatic.net%2Fstatic%2Fwww%2Fmobile%2Fedit%2F2021%2F0127%2Fupload_1611726092963ZcvAQ.jpg%22&amp;type=nf340_228\" height=\"114\" width=\"170\"/>,\n",
       " <img alt=\"기적의 합리화? 맛있는 음식이 살 안 찌는 이유 9\" data-src=\"https://s.pstatic.net/dthumb.phinf/?src=%22https%3A%2F%2Fs.pstatic.net%2Fstatic%2Fwww%2Fmobile%2Fedit%2F2021%2F0127%2Fupload_1611726605615vjif4.jpg%22&amp;type=nf340_228\" height=\"114\" width=\"170\"/>,\n",
       " <img alt=\"오래 지속하는 습관을 만드는 법\" data-src=\"https://s.pstatic.net/dthumb.phinf/?src=%22https%3A%2F%2Fs.pstatic.net%2Fstatic%2Fwww%2Fmobile%2Fedit%2F2021%2F0127%2Fupload_1611715233289Nz1LC.jpg%22&amp;type=nf340_228\" height=\"114\" width=\"170\"/>,\n",
       " <img alt=\"키 크면 단명한다? 너무 커도 걱정인 장신들\" data-src=\"https://s.pstatic.net/dthumb.phinf/?src=%22https%3A%2F%2Fs.pstatic.net%2Fstatic%2Fwww%2Fmobile%2Fedit%2F2021%2F0126%2Fupload_1611645850522OfZpp.jpg%22&amp;type=nf340_228\" height=\"114\" width=\"170\"/>,\n",
       " <img alt=\"'독서왕' 만들어주는 6단계 독서법\" data-src=\"https://s.pstatic.net/dthumb.phinf/?src=%22https%3A%2F%2Fs.pstatic.net%2Fstatic%2Fwww%2Fmobile%2Fedit%2F2021%2F0127%2Fupload_1611724410171p0sXL.jpg%22&amp;type=nf340_228\" height=\"114\" width=\"170\"/>,\n",
       " <img alt=\"수학자가 말하는 수학 느슨하게 공부하는 법\" data-src=\"https://s.pstatic.net/dthumb.phinf/?src=%22https%3A%2F%2Fs.pstatic.net%2Fstatic%2Fwww%2Fmobile%2Fedit%2F2021%2F0127%2Fupload_1611722400991zVCLy.jpg%22&amp;type=nf340_228\" height=\"114\" width=\"170\"/>,\n",
       " <img alt=\"이걸 어떻게 찾았지? 현실에 숨겨둔 '이스터에그'\" data-src=\"https://s.pstatic.net/dthumb.phinf/?src=%22https%3A%2F%2Fs.pstatic.net%2Fstatic%2Fwww%2Fmobile%2Fedit%2F2021%2F0126%2Fupload_16116459264024mLp0.jpg%22&amp;type=nf340_228\" height=\"114\" width=\"170\"/>,\n",
       " <img alt=\"직육면체에는 있고, 직사각형에는 없는 '이것'은?\" data-src=\"https://s.pstatic.net/dthumb.phinf/?src=%22https%3A%2F%2Fs.pstatic.net%2Fstatic%2Fwww%2Fmobile%2Fedit%2F2021%2F0127%2Fupload_1611722493758vIQqL.jpg%22&amp;type=nf340_228\" height=\"114\" width=\"170\"/>,\n",
       " <img alt=\"다음 중 가장 많은 지리 정보를 볼 수 있는 자료는?\" data-src=\"https://s.pstatic.net/dthumb.phinf/?src=%22https%3A%2F%2Fs.pstatic.net%2Fstatic%2Fwww%2Fmobile%2Fedit%2F2021%2F0126%2Fupload_161162859710563qu0.jpg%22&amp;type=nf340_228\" height=\"114\" width=\"170\"/>,\n",
       " <img alt=\"조선시대 왕은 하루에 5끼를 먹었다고?\" data-src=\"https://s.pstatic.net/dthumb.phinf/?src=%22https%3A%2F%2Fs.pstatic.net%2Fstatic%2Fwww%2Fmobile%2Fedit%2F2021%2F0126%2Fupload_1611645791815x5T48.jpg%22&amp;type=nf340_228\" height=\"114\" width=\"170\"/>,\n",
       " <img alt=\"세종대왕이 지폐 ‘중앙’에 그려져 있지 않은 이유\" data-src=\"https://s.pstatic.net/dthumb.phinf/?src=%22https%3A%2F%2Fs.pstatic.net%2Fstatic%2Fwww%2Fmobile%2Fedit%2F2021%2F0126%2Fupload_1611645672552XhTJE.jpg%22&amp;type=nf340_228\" height=\"114\" width=\"170\"/>,\n",
       " <img alt=\"눈길 끄는 신비로운 외모로 인해 멸종위기 처한 눈표범\" data-src=\"https://s.pstatic.net/dthumb.phinf/?src=%22https%3A%2F%2Fs.pstatic.net%2Fstatic%2Fwww%2Fmobile%2Fedit%2F2021%2F0127%2Fupload_1611723692158oXZ7e.jpg%22&amp;type=nf340_228\" height=\"114\" width=\"170\"/>,\n",
       " <img alt=\"초등학생과 중학생의 독서법은 다르다?\" data-src=\"https://s.pstatic.net/dthumb.phinf/?src=%22https%3A%2F%2Fs.pstatic.net%2Fstatic%2Fwww%2Fmobile%2Fedit%2F2021%2F0126%2Fupload_16116457069840dIBl.jpg%22&amp;type=nf340_228\" height=\"114\" width=\"170\"/>,\n",
       " <img alt=\"SNS가 만든 새로운 직업 5가지\" data-src=\"https://s.pstatic.net/dthumb.phinf/?src=%22https%3A%2F%2Fs.pstatic.net%2Fstatic%2Fwww%2Fmobile%2Fedit%2F2021%2F0127%2Fupload_16117163651869o5Mg.jpg%22&amp;type=nf340_228\" height=\"114\" width=\"170\"/>,\n",
       " <img alt=\"폰스트랩 + 리무버블 스티커 3달 사용 후기\" data-src=\"https://s.pstatic.net/dthumb.phinf/?src=%22https%3A%2F%2Fs.pstatic.net%2Fstatic%2Fwww%2Fmobile%2Fedit%2F2021%2F0127%2Fupload_1611714822657nOK7Z.jpg%22&amp;type=nf340_228\" height=\"114\" width=\"170\"/>,\n",
       " <img alt=\"서울 첫 초-중학교 통합 무산, 그 이유는?\" data-src=\"https://s.pstatic.net/dthumb.phinf/?src=%22https%3A%2F%2Fs.pstatic.net%2Fstatic%2Fwww%2Fmobile%2Fedit%2F2021%2F0126%2Fupload_1611645942975UMVkM.jpg%22&amp;type=nf340_228\" height=\"114\" width=\"170\"/>,\n",
       " <img alt=\"전자레인지 마약토스트 레시피 (망한 후기 &amp; 주의사항)\" data-src=\"https://s.pstatic.net/dthumb.phinf/?src=%22https%3A%2F%2Fs.pstatic.net%2Fstatic%2Fwww%2Fmobile%2Fedit%2F2021%2F0127%2Fupload_1611714792984ucMGH.jpg%22&amp;type=nf340_228\" height=\"114\" width=\"170\"/>,\n",
       " <img alt=\"내가 버린 쓰레기는 대체 어디로 갈까?\" data-src=\"https://s.pstatic.net/dthumb.phinf/?src=%22https%3A%2F%2Fs.pstatic.net%2Fstatic%2Fwww%2Fmobile%2Fedit%2F2021%2F0127%2Fupload_161172375074235Ypx.jpg%22&amp;type=nf340_228\" height=\"114\" width=\"170\"/>,\n",
       " <img alt=\"만성 소화불량에 도움되는 생활 지압법\" data-src=\"https://s.pstatic.net/dthumb.phinf/?src=%22https%3A%2F%2Fs.pstatic.net%2Fstatic%2Fwww%2Fmobile%2Fedit%2F2021%2F0126%2Fupload_1611645755118b5Qw6.jpg%22&amp;type=nf340_228\" height=\"114\" width=\"170\"/>,\n",
       " <img alt=\"진짜 따뜻해! 발에 붙이는 발바닥 핫팩 후기\" data-src=\"https://s.pstatic.net/dthumb.phinf/?src=%22https%3A%2F%2Fs.pstatic.net%2Fstatic%2Fwww%2Fmobile%2Fedit%2F2021%2F0127%2Fupload_1611714752878rUo94.jpg%22&amp;type=nf340_228\" height=\"114\" width=\"170\"/>,\n",
       " <img alt=\"한 달에 하나씩! 환경을 위한 새해 계획 세우기\" data-src=\"https://s.pstatic.net/dthumb.phinf/?src=%22https%3A%2F%2Fs.pstatic.net%2Fstatic%2Fwww%2Fmobile%2Fedit%2F2021%2F0127%2Fupload_16117238957998mUpB.jpg%22&amp;type=nf340_228\" height=\"114\" width=\"170\"/>,\n",
       " <img alt=\"노른자가 두 개?! 쌍란에서는 쌍둥이 병아리가 태어날까?\" data-src=\"https://s.pstatic.net/dthumb.phinf/?src=%22https%3A%2F%2Fs.pstatic.net%2Fstatic%2Fwww%2Fmobile%2Fedit%2F2021%2F0127%2Fupload_1611722891766Fv9IM.jpg%22&amp;type=nf340_228\" height=\"114\" width=\"170\"/>,\n",
       " <img alt=\"너무 귀여워서 충격적이라는 다람쥐의 자는 모습\" data-src=\"https://s.pstatic.net/dthumb.phinf/?src=%22https%3A%2F%2Fs.pstatic.net%2Fstatic%2Fwww%2Fmobile%2Fedit%2F2021%2F0119%2Fupload_1611025331638yh050.jpg%22&amp;type=nf340_228\" height=\"114\" width=\"170\"/>,\n",
       " <img alt=\"두 번 이상 보게 되는 기발한 옥외광고 10\" data-src=\"https://s.pstatic.net/dthumb.phinf/?src=%22https%3A%2F%2Fs.pstatic.net%2Fstatic%2Fwww%2Fmobile%2Fedit%2F2021%2F0119%2Fupload_1611024543210ftcw7.jpg%22&amp;type=nf340_228\" height=\"114\" width=\"170\"/>,\n",
       " <img alt=\"'스트루프 효과' 색과 뇌에 관한 놀라운 비밀\" data-src=\"https://s.pstatic.net/dthumb.phinf/?src=%22https%3A%2F%2Fs.pstatic.net%2Fstatic%2Fwww%2Fmobile%2Fedit%2F2021%2F0127%2Fupload_1611722931967qUrur.jpg%22&amp;type=nf340_228\" height=\"114\" width=\"170\"/>,\n",
       " <img alt=\"말 못할 고통 '생리통' 완화에 좋은 음식 6가지\" data-src=\"https://s.pstatic.net/dthumb.phinf/?src=%22https%3A%2F%2Fs.pstatic.net%2Fstatic%2Fwww%2Fmobile%2Fedit%2F2021%2F0118%2Fupload_1610957678454k55nL.jpg%22&amp;type=nf340_228\" height=\"114\" width=\"170\"/>,\n",
       " <img alt=\"1월에 꼭 먹어봐야 하는 딸기 신메뉴 3\" data-src=\"https://s.pstatic.net/dthumb.phinf/?src=%22https%3A%2F%2Fs.pstatic.net%2Fstatic%2Fwww%2Fmobile%2Fedit%2F2021%2F0119%2Fupload_16110253065395Ovoh.jpg%22&amp;type=nf340_228\" height=\"114\" width=\"170\"/>,\n",
       " <img alt=\"'흑마'로 태어났는데 다 자라면 '백마'가 되는 신비로운 말\" data-src=\"https://s.pstatic.net/dthumb.phinf/?src=%22https%3A%2F%2Fs.pstatic.net%2Fstatic%2Fwww%2Fmobile%2Fedit%2F2021%2F0118%2Fupload_1610957662205Fuwb6.jpg%22&amp;type=nf340_228\" height=\"114\" width=\"170\"/>,\n",
       " <img alt=\"덕업일치! 문구가 취미이자 특기인 작가\" data-src=\"https://s.pstatic.net/dthumb.phinf/?src=%22https%3A%2F%2Fs.pstatic.net%2Fstatic%2Fwww%2Fmobile%2Fedit%2F2021%2F0127%2Fupload_1611716449741S1hyX.jpg%22&amp;type=nf340_228\" height=\"114\" width=\"170\"/>,\n",
       " <img alt=\"양치질 안하면 '이런' 끔찍한 일이 생긴다\" data-src=\"https://s.pstatic.net/dthumb.phinf/?src=%22https%3A%2F%2Fs.pstatic.net%2Fstatic%2Fwww%2Fmobile%2Fedit%2F2021%2F0118%2Fupload_1610958894533SiT7P.jpg%22&amp;type=nf340_228\" height=\"114\" width=\"170\"/>,\n",
       " <img alt=\"남자 아이돌의 숨은 명곡 BEST 5★\" data-src=\"https://s.pstatic.net/dthumb.phinf/?src=%22https%3A%2F%2Fs.pstatic.net%2Fstatic%2Fwww%2Fmobile%2Fedit%2F2021%2F0129%2Fupload_1611885263217g9vYG.jpg%22&amp;type=nf340_228\" height=\"114\" width=\"170\"/>,\n",
       " <img alt=\"어릴 때부터 '실패'를 경험해야 하는 이유\" data-src=\"https://s.pstatic.net/dthumb.phinf/?src=%22https%3A%2F%2Fs.pstatic.net%2Fstatic%2Fwww%2Fmobile%2Fedit%2F2021%2F0118%2Fupload_1610958739611pkDns.jpg%22&amp;type=nf340_228\" height=\"114\" width=\"170\"/>,\n",
       " <img alt=\"빅 데이터 전문가가 되고 싶다면 '이것'부터 결정하세요\" data-src=\"https://s.pstatic.net/dthumb.phinf/?src=%22https%3A%2F%2Fs.pstatic.net%2Fstatic%2Fwww%2Fmobile%2Fedit%2F2021%2F0127%2Fupload_1611716512179I0qux.jpg%22&amp;type=nf340_228\" height=\"114\" width=\"170\"/>,\n",
       " <img alt=\"제일 좋아하는 크리에이터는? 나의 슬기로운 유튜브 생활\" data-src=\"https://s.pstatic.net/dthumb.phinf/?src=%22https%3A%2F%2Fs.pstatic.net%2Fstatic%2Fwww%2Fmobile%2Fedit%2F2021%2F0122%2Fupload_1611296750912Pjan4.jpg%22&amp;type=nf340_228\" height=\"114\" width=\"170\"/>,\n",
       " <img alt=\"공부할 때 듣는 ASMR은 집중력에 도움이 될까?\" data-src=\"https://s.pstatic.net/dthumb.phinf/?src=%22https%3A%2F%2Fs.pstatic.net%2Fstatic%2Fwww%2Fmobile%2Fedit%2F2021%2F0118%2Fupload_1610957644976TQZ2D.jpg%22&amp;type=nf340_228\" height=\"114\" width=\"170\"/>,\n",
       " <img alt=\"찍는 것마다 대박! 작품 보는 눈 있기로 유명한 배우 6\" data-src=\"https://s.pstatic.net/dthumb.phinf/?src=%22https%3A%2F%2Fs.pstatic.net%2Fstatic%2Fwww%2Fmobile%2Fedit%2F2021%2F0113%2Fupload_1610522124093AOBx0.jpg%22&amp;type=nf340_228\" height=\"114\" width=\"170\"/>,\n",
       " <img alt=\"변비 예방에 효과적인 음식 5\" data-src=\"https://s.pstatic.net/dthumb.phinf/?src=%22https%3A%2F%2Fs.pstatic.net%2Fstatic%2Fwww%2Fmobile%2Fedit%2F2021%2F0113%2Fupload_1610517043491jd69u.jpg%22&amp;type=nf340_228\" height=\"114\" width=\"170\"/>,\n",
       " <img alt=\"이미지와 정반대라 의외인 스타의 '반전' 모습 7\" data-src=\"https://s.pstatic.net/dthumb.phinf/?src=%22https%3A%2F%2Fs.pstatic.net%2Fstatic%2Fwww%2Fmobile%2Fedit%2F2021%2F0126%2Fupload_1611628379855pv14e.jpg%22&amp;type=nf340_228\" height=\"114\" width=\"170\"/>,\n",
       " <img alt=\"전 세계 1%? 사람 한 번 보면 잊지 않는다는 능력자\" data-src=\"https://s.pstatic.net/dthumb.phinf/?src=%22https%3A%2F%2Fs.pstatic.net%2Fstatic%2Fwww%2Fmobile%2Fedit%2F2021%2F0126%2Fupload_1611628374869S5kPf.jpg%22&amp;type=nf340_228\" height=\"114\" width=\"170\"/>,\n",
       " <img alt=\"스마트폰 구멍 때 깨끗하게 파내 보자!\" data-src=\"https://s.pstatic.net/dthumb.phinf/?src=%22https%3A%2F%2Fs.pstatic.net%2Fstatic%2Fwww%2Fmobile%2Fedit%2F2021%2F0113%2Fupload_1610519795058rM1u1.jpg%22&amp;type=nf340_228\" height=\"114\" width=\"170\"/>,\n",
       " <img alt=\"펭귄이 남극에서 살아남을 수 있었던 이유\" data-src=\"https://s.pstatic.net/dthumb.phinf/?src=%22https%3A%2F%2Fs.pstatic.net%2Fstatic%2Fwww%2Fmobile%2Fedit%2F2021%2F0127%2Fupload_1611722867256yILsO.jpg%22&amp;type=nf340_228\" height=\"114\" width=\"170\"/>,\n",
       " <img alt=\"창의력에도 단계가 있다? 레벨업 시키는 법\" data-src=\"https://s.pstatic.net/dthumb.phinf/?src=%22https%3A%2F%2Fs.pstatic.net%2Fstatic%2Fwww%2Fmobile%2Fedit%2F2021%2F0119%2Fupload_16110245758163IBFu.jpg%22&amp;type=nf340_228\" height=\"114\" width=\"170\"/>,\n",
       " <img alt=\"다시 돌아오지 않는 시간, 어떻게 관리해야 할까\" data-src=\"https://s.pstatic.net/dthumb.phinf/?src=%22https%3A%2F%2Fs.pstatic.net%2Fstatic%2Fwww%2Fmobile%2Fedit%2F2021%2F0120%2Fupload_161112515781759nCG.jpg%22&amp;type=nf340_228\" height=\"114\" width=\"170\"/>,\n",
       " <img alt='\"어쩌면 나는 여전히 보통을 찾고 있는지도\" &lt;보통의 노을&gt;' data-src=\"https://s.pstatic.net/dthumb.phinf/?src=%22https%3A%2F%2Fs.pstatic.net%2Fstatic%2Fwww%2Fmobile%2Fedit%2F2021%2F0127%2Fupload_16117230914788fxm6.jpg%22&amp;type=nf340_228\" height=\"114\" width=\"170\"/>,\n",
       " <img alt=\"웨일\" height=\"48\" src=\"data:image/png;base64,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\" width=\"48\"/>,\n",
       " <img alt=\"꽃\" height=\"50\" src=\"data:image/png;base64,iVBORw0KGgoAAAANSUhEUgAAAF4AAABkCAMAAAA47XeXAAAAgVBMVEUAAADN5PdGm99Gm99Gm99Gm99Gm95Gm99Gm99Gm99Gm99Gm99Gm99Gm99Gm99Gm99Gm99Gm99Gm99Gm99Gm99Gm99Gm99Gmt9Gm99Gm99Gm99Gm95Gm99Gm99Gm95Gm99Hm99Gm99Gm9/////3+/5cp+LO5PfR5/fO5fdcp+P7/f/zv5GhAAAAInRSTlMA/v7vH9u5qJNgGwb6l8a9uqF9WFUyLxYMCtbVmLCwe4OCj8gzEgAAA0NJREFUaN7NmmFz4iAQhkkwMTHGWrWtWvWuq8mF+/8/8Ey2nb0OhSwQZnw+MHQ7pbjAy2s2gsuiLPJMLpcyy4tyISZltnmHbxw3MzEVr/MUNNL5q5iCt2ccXCN9fhPB7CQYkTsRRlWDlboSAexzGCHfC28OKxhldfDOzBMwePLNTw0sauHFFphshQcLCUwkaQRfXYBPSkrEUBdv3jezcXXhw1ciUhc+fCUidQlH7qzqEk5d2dQlnHxvU5dwVgdXdSGclaiGyamt6hLO1qIu4ZASzcFE092SBprk1jagulvXAAw/qb5N7m176xQYmOPoLymYaK/X65/PNhlagE6LGUhfRM8FjNzuf/73//bHmInzoJEpjMyeWpp9RzGz/PT6+QvMNO2Q+67PPeYZY5h7jDVg5OM+/BGikd13JfDAj/Ad1WLMyEyUwKPT00ypN1GKAljQJtFiFgqRe86eYhbWIvPPPR5d+9pKiIgUwKNJdHXBvW9jyRye1EWLWYfnJcd141Byspizz7gbUyWDuqiW0v15D9g3ZgF86JwyKUgUHJaATUmS5rsEdkkTZLjZS8Alw+skFr8Nl6H6uosShaKOp3Zo+/jgFTDe+wcSfv0yFGfQaLX7tDO0reXOPRuMCG4Q11Y3IiYblWgzS7R+h31qdRtlGB7zikeUckz+AB3a8FuMqD7Cd2nhUHLOEIkLubQIkEuLxIdwEwUy3HyXxsbgPMJcGuGox+TSIugxuTQ+KHIaAS5N92eIIuMT5tJoPfHy5q9yKoXLelLuKRri0mjMQdhwTPw6Sv8pzKXhFyhNilEwkSCXRrnAnaPnJdyl0UrqXircpeHVglnv+62K4NJo3lFcGmWd79KO7OQoXAE8XNO6tIQGxj7fpfHTwk8RubQLWEGvgTNGKzj01fixunCMCCYcvSSlaFwUyKVx86J3bczpUR3zimq1LqdosAUbJF54ar+uk5Gju436mPTk8ZAXFdO93HRYTesUVgf3B+y0XdxLfdVputmfKp/iBtNjyl3c0kzUwtJIWewIPvAL9LOyWLsV9WAps3VRzh6hJBm3oOqsRKfHLGYzS/GP+iLBuBKdqkd+iWPkFZTHf4Em4us/uhI5qss/6zK5u8+AXpwAAAAASUVORK5CYII=\" width=\"47\"/>]"
      ]
     },
     "execution_count": 1,
     "metadata": {},
     "output_type": "execute_result"
    }
   ],
   "source": [
    "# 필요패키지 import\n",
    "import numpy as np\n",
    "import pandas as pd\n",
    "import requests # 크롤링에 사용하는 패키지\n",
    "from bs4 import BeautifulSoup # html 변환에 사용함\n",
    "\n",
    "# url정의\n",
    "url = 'https://www.naver.com/'\n",
    "\n",
    "# requsts로 url에 정보요청\n",
    "response = requests.get(url).text\n",
    "\n",
    "# 정보를 html 변환 (보기 쉽게)\n",
    "html = BeautifulSoup(response, 'html.parser')\n",
    "\n",
    "# html 내에서 우리가 보고 싶은 정보만 선별\n",
    "html.select('img')"
   ]
  },
  {
   "cell_type": "markdown",
   "metadata": {
    "id": "leESHsnF8kMy",
    "slideshow": {
     "slide_type": "slide"
    }
   },
   "source": [
    "### 실제 개발자가 작성한 코드로 확인된다\n",
    "    정제되지 않은 데이터로 가독성이 좋지 않음\n",
    "    우리는 이 중에서 우리가 원하는 정보를 선별해서 가져오는 작업을 진행합니다.\n",
    "    그러기에 html의 기본 구성을 살펴보도록 하겠습니다."
   ]
  },
  {
   "cell_type": "markdown",
   "metadata": {
    "id": "ijN26CQi8oSa",
    "slideshow": {
     "slide_type": "slide"
    }
   },
   "source": [
    "#### 웹 페이지의 구성\n",
    "    HTML(Hyper Text Markup Language)\n",
    "    www 를 구성하는데 사용하는 국제표준 언어로서 컨텐츠와 레이아웃을 담고 있다\n",
    "\n",
    "    <태그>내용</태그>\n",
    "    <tag이름 class=\"class이름1 class이름2\" id=\"주민번호\" href=\"주소\"></tag이름>\n",
    "\n",
    "    형태나 속성을 묘사하기 위한 구조적 언어 : HTML, CSS (계층이 있음)\n",
    "    웹의 작동 및 제어를 위한 프로그래밍 언어 :  Js"
   ]
  },
  {
   "cell_type": "markdown",
   "metadata": {
    "id": "7caqQS1q8xE9",
    "slideshow": {
     "slide_type": "slide"
    }
   },
   "source": [
    "#### 셀렉터\n",
    "    용도 : html에서 내가 원하는 내용을 찾아내기 위해서\n",
    "    <span class=\"news\" id=\"1234\">비비고 왕교자</span>\n",
    "\n",
    "    단일 셀렉터\n",
    "    \n",
    "    html.select('span')\n",
    "    tag : span\n",
    "    class(별명, 그룹명) : .news\n",
    "    id(고유값) : #1234"
   ]
  },
  {
   "cell_type": "markdown",
   "metadata": {
    "id": "U-JjMflT80sS",
    "slideshow": {
     "slide_type": "slide"
    }
   },
   "source": [
    "#### 복합 셀렉터\n",
    "    1. 조합 셀렉터\n",
    "    <span>1</span>\n",
    "    <span class=\"txt\">2</span>\n",
    "    <em class=\"txt\">3</em>\n",
    "    \n",
    "    태그 이름이 span이고 클래스 이름은 txt인 라인을 찾고 싶다. : span.txt \n",
    "    li 태그 중에서 id가 name 인 라인을 찾고\\ 싶다. : li#name\n",
    "\n",
    "    2. 경로 셀렉터\n",
    "    <ul>\n",
    "        <li><span>이걸 찾으려면?</span></li>\n",
    "    </ul>\n",
    "    <span>이건 아님</span>\n",
    "\n",
    "    ul 태그안 li 태그 안 span 라인을 찾는다\n",
    "    ul > li > span 혹은 ul li span"
   ]
  },
  {
   "cell_type": "code",
   "execution_count": 12,
   "metadata": {
    "ExecuteTime": {
     "end_time": "2021-02-03T05:06:59.639810Z",
     "start_time": "2021-02-03T05:06:59.637267Z"
    }
   },
   "outputs": [],
   "source": [
    "# url 설정\n",
    "url = 'https://search.naver.com/search.naver?where=nexearch&sm=top_hty&fbm=1&ie=utf8&query=로또'"
   ]
  },
  {
   "cell_type": "code",
   "execution_count": 16,
   "metadata": {
    "ExecuteTime": {
     "end_time": "2021-02-03T05:08:50.706376Z",
     "start_time": "2021-02-03T05:08:50.436215Z"
    }
   },
   "outputs": [],
   "source": [
    "# requests로 데이터 요청하기\n",
    "response = requests.get(url).text"
   ]
  },
  {
   "cell_type": "code",
   "execution_count": 18,
   "metadata": {
    "ExecuteTime": {
     "end_time": "2021-02-03T05:10:10.569988Z",
     "start_time": "2021-02-03T05:10:10.432372Z"
    }
   },
   "outputs": [],
   "source": [
    "# html로 변환\n",
    "html = BeautifulSoup(response, 'html.parser')"
   ]
  },
  {
   "cell_type": "code",
   "execution_count": 30,
   "metadata": {
    "ExecuteTime": {
     "end_time": "2021-02-03T05:16:21.797422Z",
     "start_time": "2021-02-03T05:16:21.791306Z"
    }
   },
   "outputs": [],
   "source": [
    "lotto_list = []\n",
    "for num in html.select('span.num')[:6]:\n",
    "    lotto_list.append(num.text)"
   ]
  },
  {
   "cell_type": "code",
   "execution_count": 31,
   "metadata": {
    "ExecuteTime": {
     "end_time": "2021-02-03T05:16:25.483890Z",
     "start_time": "2021-02-03T05:16:25.474479Z"
    }
   },
   "outputs": [
    {
     "data": {
      "text/plain": [
       "['13', '18', '30', '31', '38', '41']"
      ]
     },
     "execution_count": 31,
     "metadata": {},
     "output_type": "execute_result"
    }
   ],
   "source": [
    "lotto_list"
   ]
  },
  {
   "cell_type": "markdown",
   "metadata": {},
   "source": [
    "# 다음에서 로또번호 가져와 볼께요 몽땅 다 가져옵니다"
   ]
  },
  {
   "cell_type": "code",
   "execution_count": 57,
   "metadata": {
    "ExecuteTime": {
     "end_time": "2021-02-03T06:04:20.163694Z",
     "start_time": "2021-02-03T06:04:20.161045Z"
    }
   },
   "outputs": [],
   "source": [
    "import time"
   ]
  },
  {
   "cell_type": "code",
   "execution_count": 58,
   "metadata": {
    "ExecuteTime": {
     "end_time": "2021-02-03T06:04:47.583649Z",
     "start_time": "2021-02-03T06:04:22.409788Z"
    }
   },
   "outputs": [
    {
     "name": "stdout",
     "output_type": "stream",
     "text": [
      "접속성공\n",
      "접속성공\n",
      "접속성공\n",
      "접속성공\n",
      "접속성공\n",
      "접속성공\n",
      "접속성공\n",
      "접속성공\n",
      "접속성공\n"
     ]
    }
   ],
   "source": [
    "total_lotto_list = []\n",
    "for i in range(1, 10):\n",
    "    \n",
    "    seed = np.random.randint(100)\n",
    "    np.random.seed(seed)\n",
    "    a = np.random.randint(5) # 난수가 생성 생성된 난수에 따라서 요청하는 시간 딜레이\n",
    "    time.sleep(a)\n",
    "    \n",
    "    lotto = []\n",
    "    url = f'https://search.daum.net/search?w=tot&DA=LOT&rtmaxcoll=LOT&&q={i}회차%20로또'\n",
    "    response = requests.get(url)\n",
    "    \n",
    "    if response.status_code == requests.codes.ok:\n",
    "        print('접속성공')\n",
    "        \n",
    "        html = BeautifulSoup(response.text, 'html.parser')\n",
    "        numbers = html.select('span.ball')[:6]\n",
    "        for num in numbers:\n",
    "            lotto.append(num.text)\n",
    "        total_lotto_list.append(lotto)\n",
    "        \n",
    "    else:\n",
    "        break"
   ]
  },
  {
   "cell_type": "code",
   "execution_count": 50,
   "metadata": {
    "ExecuteTime": {
     "end_time": "2021-02-03T05:41:05.583999Z",
     "start_time": "2021-02-03T05:41:05.579960Z"
    }
   },
   "outputs": [
    {
     "data": {
      "text/plain": [
       "200"
      ]
     },
     "execution_count": 50,
     "metadata": {},
     "output_type": "execute_result"
    }
   ],
   "source": [
    "requests.codes.ok\n",
    "# 100 우리 이런정보 내주는거야\n",
    "# 200 성공\n",
    "# 300 우리 이 사이트 이리루 이사했어 일루가\n",
    "# 400 유저가 요청을 잘못한경우\n",
    "# 500 서버 문제"
   ]
  },
  {
   "cell_type": "code",
   "execution_count": null,
   "metadata": {},
   "outputs": [],
   "source": [
    "# 차단막는 코드\n",
    "seed = np.random.randint(100)\n",
    "np.random.seed(seed)\n",
    "a = np.random.randint(5)"
   ]
  },
  {
   "cell_type": "markdown",
   "metadata": {},
   "source": [
    "# 네이버에 사용자로 부터 입력받는 검색어를 입력하고 나오는 결과값의 view(블로그) 페이지에 접근해서 블로그 제목 가져오기"
   ]
  },
  {
   "cell_type": "code",
   "execution_count": 76,
   "metadata": {
    "ExecuteTime": {
     "end_time": "2021-02-03T06:27:56.160704Z",
     "start_time": "2021-02-03T06:27:51.173813Z"
    }
   },
   "outputs": [
    {
     "name": "stdout",
     "output_type": "stream",
     "text": [
      "키워드를 입력하세요 :코로나\n",
      "접속성공\n",
      "코로나 19에 의한 뇌손상 기전을 밝히다 https://blog.naver.com/jjy0501/222194097167\n",
      "코로나19 후유증, 완치가 된 이후에도 신체에 남는다? https://blog.naver.com/dkdkpad/222200709126\n",
      "면역억제제를 복용하는 류마티스 환자가 코로나19에 감염된다면? - 류마티스내과 강은하 교수 https://blog.naver.com/happy_snubh/222181872058\n",
      "코로나 백신 우선순위, 접종 순서, 부작용 대처법 알아보기 https://blog.naver.com/junmin120/222225602381\n",
      "코로나 증상 치료제, 백신 대신 고춧대차?? https://blog.naver.com/youn547/222183298978\n",
      "코로나19 신약 개발을 둘러싼 궁금증 https://blog.naver.com/nhicblog/222159308889\n",
      "<安단테> 코로나19와 감기는 어떻게 구분하나요 https://blog.naver.com/koshablog/222140603442\n",
      "코로나19 가짜뉴스 팩트체크 및 울산 내 선별진료소 찾기 https://blog.naver.com/ulsan-namgu/222219086211\n",
      "코로나19 RNA 백신 맞아도 되나요? https://post.naver.com/viewer/postView.nhn?volumeNo=30279230&memberNo=3600238&vType=VERTICAL\n",
      "코로나 근손실, 막는방법! https://post.naver.com/viewer/postView.nhn?volumeNo=30277405&memberNo=45445147&vType=VERTICAL\n",
      "코로나가 유행할 때에는 해열제 사용을 가급적 피해야 한다 https://blog.naver.com/yimin3181/222154851295\n",
      "코로나 - 감기 바이러스 때문에 유전자 백신을 맞는다? https://blog.naver.com/hurkle97/222225492026\n",
      "ㅇㅈㅇㅅ코로나검사? https://cafe.naver.com/myomahealing/127856\n",
      "코로나 백신 우선순위, 접종 순서는 어떻게 될까? https://blog.naver.com/sinyu29/222224572106\n",
      "코로나19 팬데믹 이후 흑염소 가격 상승과 이유는 https://blog.naver.com/ecoonebg/222226831677\n",
      "코로나 증상 순서, 발현시기, 그리고 무증상 환자 https://blog.naver.com/nemjun/222197456656\n",
      "공황장애 극복일지 '나는 코로나한테 고마워했다' https://cafe.naver.com/lovefaithjkc/388525\n",
      "코로나19 백신오해와 진실 https://post.naver.com/viewer/postView.nhn?volumeNo=30183012&memberNo=23157417&vType=VERTICAL\n",
      "코로나백신(모더나) 과 얼굴필러, 염증반응 리포트 https://blog.naver.com/goodprofile/222186761191\n",
      "[서울대병원] 숫자로 보는 코로나19 1년 https://blog.naver.com/chsnuh/222214835324\n",
      "포스트 코로나 시대 2021년에도 코로나19의 공포 지속될까? https://post.naver.com/viewer/postView.nhn?volumeNo=30359784&memberNo=12158111&vType=VERTICAL\n",
      "2021년 코로나19 종식?! 코로나19 백신 접종의 모든 것 https://blog.naver.com/kescomiri/222211419005\n",
      "코로나바이러스감염증-19 대응 관련 브리핑(2021.2.2.화) https://blog.naver.com/daegu_news/222228642111\n",
      "소파술 전에 코로나검사 필수였나요? https://cafe.naver.com/imsanbu/54175942\n",
      "코로나19 <전 국민 무료예방접종> 접종시기 및 대상 안내 https://blog.naver.com/hellopolicy/222223192525\n",
      "정부, 11월 집단면역 형성 목표..9월까지 국민 70% 코로나19 백신 1차 접종 https://blog.naver.com/eunyo20/222219639862\n",
      "삼성서울병원-강북삼성병원, 코로나19 중증환자 전담치료병상 확대! https://blog.naver.com/ohhappysmc/222182840726\n",
      "코로나19 통합심리지원 안내 https://blog.naver.com/happyjejudo/222216225754\n",
      "코로나19가 바꿔 놓은 수능 풍경 https://blog.daum.net/nhicblog/4285\n",
      "왠지 우울하다면? 코로나 블루에 좋은 음식 BEST 5 https://blog.naver.com/nong-up/222219249414\n"
     ]
    }
   ],
   "source": [
    "key_word = input('키워드를 입력하세요 :')\n",
    "url = f'https://search.naver.com/search.naver?where=view&sm=tab_jum&query={key_word}'\n",
    "\n",
    "response = requests.get(url)\n",
    "\n",
    "if response.status_code == requests.codes.ok:\n",
    "    print('접속성공')\n",
    "\n",
    "html = BeautifulSoup(response.text, 'html.parser')\n",
    "\n",
    "titles = html.select('a.api_txt_lines')\n",
    "for title in titles:\n",
    "    print(title.text, title.attrs['href'])"
   ]
  },
  {
   "cell_type": "markdown",
   "metadata": {
    "id": "P_ssRYoV88a7",
    "slideshow": {
     "slide_type": "slide"
    }
   },
   "source": [
    "    가져온 데이터에 접근을 하는 방식 자체는 판다스 색인처럼 결과값을 확인하며 진행하는 것이 가장 좋습니다."
   ]
  },
  {
   "cell_type": "markdown",
   "metadata": {
    "id": "L--NnRPK9LAN",
    "slideshow": {
     "slide_type": "slide"
    }
   },
   "source": [
    "## **3. 네이버 키워드로 검색한 결과를 크롤링**"
   ]
  },
  {
   "cell_type": "markdown",
   "metadata": {
    "id": "XYhXePUPB7FF",
    "slideshow": {
     "slide_type": "slide"
    }
   },
   "source": [
    "## **4. 동적페이지 크롤링**\n",
    "    최근에는 Js로 변경이 되며 일반적인 크롤링이 되지 않는 경우가 많음\n",
    "    동적페이지와 숨겨진 url을 가져오는 방법을 알아봅니다"
   ]
  },
  {
   "cell_type": "markdown",
   "metadata": {
    "id": "GIvAIByBCAz1",
    "slideshow": {
     "slide_type": "slide"
    }
   },
   "source": [
    "### 네이버 데이터랩 인기검색어 크롤링"
   ]
  },
  {
   "cell_type": "code",
   "execution_count": 86,
   "metadata": {
    "ExecuteTime": {
     "end_time": "2021-02-03T06:56:59.572680Z",
     "start_time": "2021-02-03T06:56:59.504511Z"
    },
    "id": "uvafKGESAAEJ",
    "slideshow": {
     "slide_type": "subslide"
    }
   },
   "outputs": [],
   "source": [
    "import json\n",
    "\n",
    "# 카테고리 데이터 가져오기\n",
    "url = 'https://datalab.naver.com/shoppingInsight/getKeywordRank.naver?timeUnit=date&cid=50000000'\n",
    "\n",
    "# 헤더정보 필요\n",
    "header = {\n",
    "    'user-agent': 'Mozilla/5.0 (Macintosh; Intel Mac OS X 10_13_6) AppleWebKit/537.36 (KHTML, like Gecko) Chrome/88.0.4324.96 Safari/537.36',\n",
    "    'referer': 'https://datalab.naver.com/'\n",
    "}\n",
    "\n",
    "response = requests.post(url, headers=header)\n",
    "data = json.loads(response.text)\n",
    "data[0]"
   ]
  },
  {
   "cell_type": "markdown",
   "metadata": {
    "id": "N3NtfdJNMWM6",
    "slideshow": {
     "slide_type": "slide"
    }
   },
   "source": [
    "### 다음 주식 일자별 주가 데이터 크롤링"
   ]
  },
  {
   "cell_type": "code",
   "execution_count": 118,
   "metadata": {
    "ExecuteTime": {
     "end_time": "2021-02-03T07:24:14.345102Z",
     "start_time": "2021-02-03T07:24:14.262761Z"
    },
    "id": "9txT7yVwMehO"
   },
   "outputs": [
    {
     "data": {
      "text/plain": [
       "{'data': [{'symbolCode': 'A285130',\n",
       "   'date': '2021-01-20 15:30:05',\n",
       "   'tradePrice': 394500.0,\n",
       "   'tradeTime': '15:30:05',\n",
       "   'change': 'RISE',\n",
       "   'changePrice': 2500.0,\n",
       "   'changeRate': 0.006377551,\n",
       "   'prevClosingPrice': 392000.0,\n",
       "   'exchangeCountry': 'KOREA',\n",
       "   'openingPrice': 398000.0,\n",
       "   'highPrice': 405000.0,\n",
       "   'lowPrice': 375500.0,\n",
       "   'accTradePrice': 315552795000,\n",
       "   'accTradeVolume': 800421,\n",
       "   'periodTradePrice': 315552795000,\n",
       "   'periodTradeVolume': 800421,\n",
       "   'listedSharesCount': None},\n",
       "  {'symbolCode': 'A285130',\n",
       "   'date': '2021-01-19 15:30:11',\n",
       "   'tradePrice': 392000.0,\n",
       "   'tradeTime': '15:30:11',\n",
       "   'change': 'RISE',\n",
       "   'changePrice': 16000.0,\n",
       "   'changeRate': 0.0425531915,\n",
       "   'prevClosingPrice': 376000.0,\n",
       "   'exchangeCountry': 'KOREA',\n",
       "   'openingPrice': 382000.0,\n",
       "   'highPrice': 393500.0,\n",
       "   'lowPrice': 368500.0,\n",
       "   'accTradePrice': 160695133500,\n",
       "   'accTradeVolume': 417839,\n",
       "   'periodTradePrice': 160695133500,\n",
       "   'periodTradeVolume': 417839,\n",
       "   'listedSharesCount': None},\n",
       "  {'symbolCode': 'A285130',\n",
       "   'date': '2021-01-18 15:30:29',\n",
       "   'tradePrice': 376000.0,\n",
       "   'tradeTime': '15:30:29',\n",
       "   'change': 'RISE',\n",
       "   'changePrice': 26500.0,\n",
       "   'changeRate': 0.0758226037,\n",
       "   'prevClosingPrice': 349500.0,\n",
       "   'exchangeCountry': 'KOREA',\n",
       "   'openingPrice': 353500.0,\n",
       "   'highPrice': 378000.0,\n",
       "   'lowPrice': 352000.0,\n",
       "   'accTradePrice': 158281906000,\n",
       "   'accTradeVolume': 427722,\n",
       "   'periodTradePrice': 158281906000,\n",
       "   'periodTradeVolume': 427722,\n",
       "   'listedSharesCount': None},\n",
       "  {'symbolCode': 'A285130',\n",
       "   'date': '2021-01-15 15:30:01',\n",
       "   'tradePrice': 349500.0,\n",
       "   'tradeTime': '15:30:01',\n",
       "   'change': 'FALL',\n",
       "   'changePrice': 6500.0,\n",
       "   'changeRate': -0.018258427,\n",
       "   'prevClosingPrice': 356000.0,\n",
       "   'exchangeCountry': 'KOREA',\n",
       "   'openingPrice': 356000.0,\n",
       "   'highPrice': 362500.0,\n",
       "   'lowPrice': 346500.0,\n",
       "   'accTradePrice': 69139015000,\n",
       "   'accTradeVolume': 196217,\n",
       "   'periodTradePrice': 69139015000,\n",
       "   'periodTradeVolume': 196217,\n",
       "   'listedSharesCount': None},\n",
       "  {'symbolCode': 'A285130',\n",
       "   'date': '2021-01-14 15:30:10',\n",
       "   'tradePrice': 356000.0,\n",
       "   'tradeTime': '15:30:10',\n",
       "   'change': 'FALL',\n",
       "   'changePrice': 5000.0,\n",
       "   'changeRate': -0.0138504155,\n",
       "   'prevClosingPrice': 361000.0,\n",
       "   'exchangeCountry': 'KOREA',\n",
       "   'openingPrice': 359000.0,\n",
       "   'highPrice': 363000.0,\n",
       "   'lowPrice': 352000.0,\n",
       "   'accTradePrice': 51734129500,\n",
       "   'accTradeVolume': 145147,\n",
       "   'periodTradePrice': 51734129500,\n",
       "   'periodTradeVolume': 145147,\n",
       "   'listedSharesCount': None},\n",
       "  {'symbolCode': 'A285130',\n",
       "   'date': '2021-01-13 15:30:10',\n",
       "   'tradePrice': 361000.0,\n",
       "   'tradeTime': '15:30:10',\n",
       "   'change': 'RISE',\n",
       "   'changePrice': 1000.0,\n",
       "   'changeRate': 0.0027777778,\n",
       "   'prevClosingPrice': 360000.0,\n",
       "   'exchangeCountry': 'KOREA',\n",
       "   'openingPrice': 365500.0,\n",
       "   'highPrice': 370000.0,\n",
       "   'lowPrice': 361000.0,\n",
       "   'accTradePrice': 43103611500,\n",
       "   'accTradeVolume': 118455,\n",
       "   'periodTradePrice': 43103611500,\n",
       "   'periodTradeVolume': 118455,\n",
       "   'listedSharesCount': None},\n",
       "  {'symbolCode': 'A285130',\n",
       "   'date': '2021-01-12 15:30:14',\n",
       "   'tradePrice': 360000.0,\n",
       "   'tradeTime': '15:30:14',\n",
       "   'change': 'FALL',\n",
       "   'changePrice': 3000.0,\n",
       "   'changeRate': -0.0082644628,\n",
       "   'prevClosingPrice': 363000.0,\n",
       "   'exchangeCountry': 'KOREA',\n",
       "   'openingPrice': 366000.0,\n",
       "   'highPrice': 371000.0,\n",
       "   'lowPrice': 359000.0,\n",
       "   'accTradePrice': 53606554500,\n",
       "   'accTradeVolume': 147319,\n",
       "   'periodTradePrice': 53606554500,\n",
       "   'periodTradeVolume': 147319,\n",
       "   'listedSharesCount': None},\n",
       "  {'symbolCode': 'A285130',\n",
       "   'date': '2021-01-11 15:30:27',\n",
       "   'tradePrice': 363000.0,\n",
       "   'tradeTime': '15:30:27',\n",
       "   'change': 'FALL',\n",
       "   'changePrice': 19000.0,\n",
       "   'changeRate': -0.0497382199,\n",
       "   'prevClosingPrice': 382000.0,\n",
       "   'exchangeCountry': 'KOREA',\n",
       "   'openingPrice': 381000.0,\n",
       "   'highPrice': 381000.0,\n",
       "   'lowPrice': 360000.0,\n",
       "   'accTradePrice': 140992566500,\n",
       "   'accTradeVolume': 384141,\n",
       "   'periodTradePrice': 140992566500,\n",
       "   'periodTradeVolume': 384141,\n",
       "   'listedSharesCount': None},\n",
       "  {'symbolCode': 'A285130',\n",
       "   'date': '2021-01-08 15:30:07',\n",
       "   'tradePrice': 382000.0,\n",
       "   'tradeTime': '15:30:07',\n",
       "   'change': 'FALL',\n",
       "   'changePrice': 3500.0,\n",
       "   'changeRate': -0.009079118,\n",
       "   'prevClosingPrice': 385500.0,\n",
       "   'exchangeCountry': 'KOREA',\n",
       "   'openingPrice': 388500.0,\n",
       "   'highPrice': 391000.0,\n",
       "   'lowPrice': 380000.0,\n",
       "   'accTradePrice': 99437443000,\n",
       "   'accTradeVolume': 260019,\n",
       "   'periodTradePrice': 99437443000,\n",
       "   'periodTradeVolume': 260019,\n",
       "   'listedSharesCount': None},\n",
       "  {'symbolCode': 'A285130',\n",
       "   'date': '2021-01-07 15:30:27',\n",
       "   'tradePrice': 385500.0,\n",
       "   'tradeTime': '15:30:27',\n",
       "   'change': 'RISE',\n",
       "   'changePrice': 500.0,\n",
       "   'changeRate': 0.0012987013,\n",
       "   'prevClosingPrice': 385000.0,\n",
       "   'exchangeCountry': 'KOREA',\n",
       "   'openingPrice': 386000.0,\n",
       "   'highPrice': 390000.0,\n",
       "   'lowPrice': 381500.0,\n",
       "   'accTradePrice': 68389228000,\n",
       "   'accTradeVolume': 177292,\n",
       "   'periodTradePrice': 68389228000,\n",
       "   'periodTradeVolume': 177292,\n",
       "   'listedSharesCount': None}],\n",
       " 'totalPages': 76,\n",
       " 'currentPage': 2,\n",
       " 'pageSize': 10}"
      ]
     },
     "execution_count": 118,
     "metadata": {},
     "output_type": "execute_result"
    }
   ],
   "source": [
    "url = 'https://finance.daum.net/api/quote/A285130/days?symbolCode=A285130&page=2&perPage=10&pagination=true'\n",
    "\n",
    "header = {\n",
    "    'Referer':'https://finance.daum.net/quotes/A285130?period=day',\n",
    "    'User-Agent':'Mozilla/5.0 (Macintosh; Intel Mac OS X 10_13_6) AppleWebKit/537.36 (KHTML, like Gecko) Chrome/88.0.4324.96 Safari/537.36'\n",
    "}\n",
    "\n",
    "# f12 - network -header\n",
    "\n",
    "response = requests.get(url, headers=header)\n",
    "data = json.loads(response.text)\n",
    "data"
   ]
  },
  {
   "cell_type": "code",
   "execution_count": 139,
   "metadata": {
    "ExecuteTime": {
     "end_time": "2021-02-03T07:38:12.217428Z",
     "start_time": "2021-02-03T07:38:12.213068Z"
    }
   },
   "outputs": [],
   "source": [
    "from pandas.io.json import json_normalize"
   ]
  },
  {
   "cell_type": "code",
   "execution_count": 140,
   "metadata": {
    "ExecuteTime": {
     "end_time": "2021-02-03T07:38:37.954755Z",
     "start_time": "2021-02-03T07:38:37.946225Z"
    }
   },
   "outputs": [],
   "source": [
    "df = pd.DataFrame(data['data'])"
   ]
  },
  {
   "cell_type": "code",
   "execution_count": 141,
   "metadata": {
    "ExecuteTime": {
     "end_time": "2021-02-03T07:38:42.429369Z",
     "start_time": "2021-02-03T07:38:42.400753Z"
    }
   },
   "outputs": [
    {
     "data": {
      "text/html": [
       "<div>\n",
       "<style scoped>\n",
       "    .dataframe tbody tr th:only-of-type {\n",
       "        vertical-align: middle;\n",
       "    }\n",
       "\n",
       "    .dataframe tbody tr th {\n",
       "        vertical-align: top;\n",
       "    }\n",
       "\n",
       "    .dataframe thead th {\n",
       "        text-align: right;\n",
       "    }\n",
       "</style>\n",
       "<table border=\"1\" class=\"dataframe\">\n",
       "  <thead>\n",
       "    <tr style=\"text-align: right;\">\n",
       "      <th></th>\n",
       "      <th>symbolCode</th>\n",
       "      <th>date</th>\n",
       "      <th>tradePrice</th>\n",
       "      <th>tradeTime</th>\n",
       "      <th>change</th>\n",
       "      <th>changePrice</th>\n",
       "      <th>changeRate</th>\n",
       "      <th>prevClosingPrice</th>\n",
       "      <th>exchangeCountry</th>\n",
       "      <th>openingPrice</th>\n",
       "      <th>highPrice</th>\n",
       "      <th>lowPrice</th>\n",
       "      <th>accTradePrice</th>\n",
       "      <th>accTradeVolume</th>\n",
       "      <th>periodTradePrice</th>\n",
       "      <th>periodTradeVolume</th>\n",
       "      <th>listedSharesCount</th>\n",
       "    </tr>\n",
       "  </thead>\n",
       "  <tbody>\n",
       "    <tr>\n",
       "      <th>0</th>\n",
       "      <td>A285130</td>\n",
       "      <td>2021-01-20 15:30:05</td>\n",
       "      <td>394500.0</td>\n",
       "      <td>15:30:05</td>\n",
       "      <td>RISE</td>\n",
       "      <td>2500.0</td>\n",
       "      <td>0.006378</td>\n",
       "      <td>392000.0</td>\n",
       "      <td>KOREA</td>\n",
       "      <td>398000.0</td>\n",
       "      <td>405000.0</td>\n",
       "      <td>375500.0</td>\n",
       "      <td>315552795000</td>\n",
       "      <td>800421</td>\n",
       "      <td>315552795000</td>\n",
       "      <td>800421</td>\n",
       "      <td>None</td>\n",
       "    </tr>\n",
       "    <tr>\n",
       "      <th>1</th>\n",
       "      <td>A285130</td>\n",
       "      <td>2021-01-19 15:30:11</td>\n",
       "      <td>392000.0</td>\n",
       "      <td>15:30:11</td>\n",
       "      <td>RISE</td>\n",
       "      <td>16000.0</td>\n",
       "      <td>0.042553</td>\n",
       "      <td>376000.0</td>\n",
       "      <td>KOREA</td>\n",
       "      <td>382000.0</td>\n",
       "      <td>393500.0</td>\n",
       "      <td>368500.0</td>\n",
       "      <td>160695133500</td>\n",
       "      <td>417839</td>\n",
       "      <td>160695133500</td>\n",
       "      <td>417839</td>\n",
       "      <td>None</td>\n",
       "    </tr>\n",
       "    <tr>\n",
       "      <th>2</th>\n",
       "      <td>A285130</td>\n",
       "      <td>2021-01-18 15:30:29</td>\n",
       "      <td>376000.0</td>\n",
       "      <td>15:30:29</td>\n",
       "      <td>RISE</td>\n",
       "      <td>26500.0</td>\n",
       "      <td>0.075823</td>\n",
       "      <td>349500.0</td>\n",
       "      <td>KOREA</td>\n",
       "      <td>353500.0</td>\n",
       "      <td>378000.0</td>\n",
       "      <td>352000.0</td>\n",
       "      <td>158281906000</td>\n",
       "      <td>427722</td>\n",
       "      <td>158281906000</td>\n",
       "      <td>427722</td>\n",
       "      <td>None</td>\n",
       "    </tr>\n",
       "    <tr>\n",
       "      <th>3</th>\n",
       "      <td>A285130</td>\n",
       "      <td>2021-01-15 15:30:01</td>\n",
       "      <td>349500.0</td>\n",
       "      <td>15:30:01</td>\n",
       "      <td>FALL</td>\n",
       "      <td>6500.0</td>\n",
       "      <td>-0.018258</td>\n",
       "      <td>356000.0</td>\n",
       "      <td>KOREA</td>\n",
       "      <td>356000.0</td>\n",
       "      <td>362500.0</td>\n",
       "      <td>346500.0</td>\n",
       "      <td>69139015000</td>\n",
       "      <td>196217</td>\n",
       "      <td>69139015000</td>\n",
       "      <td>196217</td>\n",
       "      <td>None</td>\n",
       "    </tr>\n",
       "    <tr>\n",
       "      <th>4</th>\n",
       "      <td>A285130</td>\n",
       "      <td>2021-01-14 15:30:10</td>\n",
       "      <td>356000.0</td>\n",
       "      <td>15:30:10</td>\n",
       "      <td>FALL</td>\n",
       "      <td>5000.0</td>\n",
       "      <td>-0.013850</td>\n",
       "      <td>361000.0</td>\n",
       "      <td>KOREA</td>\n",
       "      <td>359000.0</td>\n",
       "      <td>363000.0</td>\n",
       "      <td>352000.0</td>\n",
       "      <td>51734129500</td>\n",
       "      <td>145147</td>\n",
       "      <td>51734129500</td>\n",
       "      <td>145147</td>\n",
       "      <td>None</td>\n",
       "    </tr>\n",
       "    <tr>\n",
       "      <th>5</th>\n",
       "      <td>A285130</td>\n",
       "      <td>2021-01-13 15:30:10</td>\n",
       "      <td>361000.0</td>\n",
       "      <td>15:30:10</td>\n",
       "      <td>RISE</td>\n",
       "      <td>1000.0</td>\n",
       "      <td>0.002778</td>\n",
       "      <td>360000.0</td>\n",
       "      <td>KOREA</td>\n",
       "      <td>365500.0</td>\n",
       "      <td>370000.0</td>\n",
       "      <td>361000.0</td>\n",
       "      <td>43103611500</td>\n",
       "      <td>118455</td>\n",
       "      <td>43103611500</td>\n",
       "      <td>118455</td>\n",
       "      <td>None</td>\n",
       "    </tr>\n",
       "    <tr>\n",
       "      <th>6</th>\n",
       "      <td>A285130</td>\n",
       "      <td>2021-01-12 15:30:14</td>\n",
       "      <td>360000.0</td>\n",
       "      <td>15:30:14</td>\n",
       "      <td>FALL</td>\n",
       "      <td>3000.0</td>\n",
       "      <td>-0.008264</td>\n",
       "      <td>363000.0</td>\n",
       "      <td>KOREA</td>\n",
       "      <td>366000.0</td>\n",
       "      <td>371000.0</td>\n",
       "      <td>359000.0</td>\n",
       "      <td>53606554500</td>\n",
       "      <td>147319</td>\n",
       "      <td>53606554500</td>\n",
       "      <td>147319</td>\n",
       "      <td>None</td>\n",
       "    </tr>\n",
       "    <tr>\n",
       "      <th>7</th>\n",
       "      <td>A285130</td>\n",
       "      <td>2021-01-11 15:30:27</td>\n",
       "      <td>363000.0</td>\n",
       "      <td>15:30:27</td>\n",
       "      <td>FALL</td>\n",
       "      <td>19000.0</td>\n",
       "      <td>-0.049738</td>\n",
       "      <td>382000.0</td>\n",
       "      <td>KOREA</td>\n",
       "      <td>381000.0</td>\n",
       "      <td>381000.0</td>\n",
       "      <td>360000.0</td>\n",
       "      <td>140992566500</td>\n",
       "      <td>384141</td>\n",
       "      <td>140992566500</td>\n",
       "      <td>384141</td>\n",
       "      <td>None</td>\n",
       "    </tr>\n",
       "    <tr>\n",
       "      <th>8</th>\n",
       "      <td>A285130</td>\n",
       "      <td>2021-01-08 15:30:07</td>\n",
       "      <td>382000.0</td>\n",
       "      <td>15:30:07</td>\n",
       "      <td>FALL</td>\n",
       "      <td>3500.0</td>\n",
       "      <td>-0.009079</td>\n",
       "      <td>385500.0</td>\n",
       "      <td>KOREA</td>\n",
       "      <td>388500.0</td>\n",
       "      <td>391000.0</td>\n",
       "      <td>380000.0</td>\n",
       "      <td>99437443000</td>\n",
       "      <td>260019</td>\n",
       "      <td>99437443000</td>\n",
       "      <td>260019</td>\n",
       "      <td>None</td>\n",
       "    </tr>\n",
       "    <tr>\n",
       "      <th>9</th>\n",
       "      <td>A285130</td>\n",
       "      <td>2021-01-07 15:30:27</td>\n",
       "      <td>385500.0</td>\n",
       "      <td>15:30:27</td>\n",
       "      <td>RISE</td>\n",
       "      <td>500.0</td>\n",
       "      <td>0.001299</td>\n",
       "      <td>385000.0</td>\n",
       "      <td>KOREA</td>\n",
       "      <td>386000.0</td>\n",
       "      <td>390000.0</td>\n",
       "      <td>381500.0</td>\n",
       "      <td>68389228000</td>\n",
       "      <td>177292</td>\n",
       "      <td>68389228000</td>\n",
       "      <td>177292</td>\n",
       "      <td>None</td>\n",
       "    </tr>\n",
       "  </tbody>\n",
       "</table>\n",
       "</div>"
      ],
      "text/plain": [
       "  symbolCode                 date  tradePrice tradeTime change  changePrice  \\\n",
       "0    A285130  2021-01-20 15:30:05    394500.0  15:30:05   RISE       2500.0   \n",
       "1    A285130  2021-01-19 15:30:11    392000.0  15:30:11   RISE      16000.0   \n",
       "2    A285130  2021-01-18 15:30:29    376000.0  15:30:29   RISE      26500.0   \n",
       "3    A285130  2021-01-15 15:30:01    349500.0  15:30:01   FALL       6500.0   \n",
       "4    A285130  2021-01-14 15:30:10    356000.0  15:30:10   FALL       5000.0   \n",
       "5    A285130  2021-01-13 15:30:10    361000.0  15:30:10   RISE       1000.0   \n",
       "6    A285130  2021-01-12 15:30:14    360000.0  15:30:14   FALL       3000.0   \n",
       "7    A285130  2021-01-11 15:30:27    363000.0  15:30:27   FALL      19000.0   \n",
       "8    A285130  2021-01-08 15:30:07    382000.0  15:30:07   FALL       3500.0   \n",
       "9    A285130  2021-01-07 15:30:27    385500.0  15:30:27   RISE        500.0   \n",
       "\n",
       "   changeRate  prevClosingPrice exchangeCountry  openingPrice  highPrice  \\\n",
       "0    0.006378          392000.0           KOREA      398000.0   405000.0   \n",
       "1    0.042553          376000.0           KOREA      382000.0   393500.0   \n",
       "2    0.075823          349500.0           KOREA      353500.0   378000.0   \n",
       "3   -0.018258          356000.0           KOREA      356000.0   362500.0   \n",
       "4   -0.013850          361000.0           KOREA      359000.0   363000.0   \n",
       "5    0.002778          360000.0           KOREA      365500.0   370000.0   \n",
       "6   -0.008264          363000.0           KOREA      366000.0   371000.0   \n",
       "7   -0.049738          382000.0           KOREA      381000.0   381000.0   \n",
       "8   -0.009079          385500.0           KOREA      388500.0   391000.0   \n",
       "9    0.001299          385000.0           KOREA      386000.0   390000.0   \n",
       "\n",
       "   lowPrice  accTradePrice  accTradeVolume  periodTradePrice  \\\n",
       "0  375500.0   315552795000          800421      315552795000   \n",
       "1  368500.0   160695133500          417839      160695133500   \n",
       "2  352000.0   158281906000          427722      158281906000   \n",
       "3  346500.0    69139015000          196217       69139015000   \n",
       "4  352000.0    51734129500          145147       51734129500   \n",
       "5  361000.0    43103611500          118455       43103611500   \n",
       "6  359000.0    53606554500          147319       53606554500   \n",
       "7  360000.0   140992566500          384141      140992566500   \n",
       "8  380000.0    99437443000          260019       99437443000   \n",
       "9  381500.0    68389228000          177292       68389228000   \n",
       "\n",
       "   periodTradeVolume listedSharesCount  \n",
       "0             800421              None  \n",
       "1             417839              None  \n",
       "2             427722              None  \n",
       "3             196217              None  \n",
       "4             145147              None  \n",
       "5             118455              None  \n",
       "6             147319              None  \n",
       "7             384141              None  \n",
       "8             260019              None  \n",
       "9             177292              None  "
      ]
     },
     "execution_count": 141,
     "metadata": {},
     "output_type": "execute_result"
    }
   ],
   "source": [
    "df"
   ]
  },
  {
   "cell_type": "markdown",
   "metadata": {},
   "source": [
    "### 네이버 주식 삼성전자 일자별 주가 데이터 크롤링 1페이지 부터 10페이지 까지"
   ]
  },
  {
   "cell_type": "code",
   "execution_count": 121,
   "metadata": {
    "ExecuteTime": {
     "end_time": "2021-02-03T07:31:19.972368Z",
     "start_time": "2021-02-03T07:31:19.968722Z"
    }
   },
   "outputs": [],
   "source": [
    "url = 'https://finance.naver.com/item/sise_day.nhn?code=005930&page=1'\n",
    "\n",
    "header = {\n",
    "    'referer' : 'https://finance.naver.com/item/sise_day.nhn?code=005930&page=2',\n",
    "    'user-agent' : 'Mozilla/5.0 (Macintosh; Intel Mac OS X 10_13_6) AppleWebKit/537.36 (KHTML, like Gecko) Chrome/88.0.4324.96 Safari/537.36'\n",
    "}"
   ]
  },
  {
   "cell_type": "code",
   "execution_count": 122,
   "metadata": {
    "ExecuteTime": {
     "end_time": "2021-02-03T07:31:34.472888Z",
     "start_time": "2021-02-03T07:31:34.406360Z"
    }
   },
   "outputs": [],
   "source": [
    "response = requests.get(url, headers=header)"
   ]
  },
  {
   "cell_type": "code",
   "execution_count": 125,
   "metadata": {
    "ExecuteTime": {
     "end_time": "2021-02-03T07:32:40.422469Z",
     "start_time": "2021-02-03T07:32:40.405857Z"
    }
   },
   "outputs": [],
   "source": [
    "html = BeautifulSoup(response.text, 'html.parser')"
   ]
  },
  {
   "cell_type": "code",
   "execution_count": 137,
   "metadata": {
    "ExecuteTime": {
     "end_time": "2021-02-03T07:36:39.313494Z",
     "start_time": "2021-02-03T07:36:39.308609Z"
    }
   },
   "outputs": [
    {
     "name": "stdout",
     "output_type": "stream",
     "text": [
      "2021.02.03\n",
      "2021.02.02\n",
      "2021.02.01\n",
      "2021.01.29\n",
      "2021.01.28\n",
      "2021.01.27\n",
      "2021.01.26\n",
      "2021.01.25\n",
      "2021.01.22\n",
      "2021.01.21\n"
     ]
    }
   ],
   "source": [
    "for i in html.select('span.p10'):\n",
    "    print(i.text)"
   ]
  },
  {
   "cell_type": "code",
   "execution_count": 127,
   "metadata": {
    "ExecuteTime": {
     "end_time": "2021-02-03T07:33:15.609910Z",
     "start_time": "2021-02-03T07:33:15.605703Z"
    }
   },
   "outputs": [
    {
     "data": {
      "text/plain": [
       "[<th>날짜</th>,\n",
       " <th>종가</th>,\n",
       " <th>전일비</th>,\n",
       " <th>시가</th>,\n",
       " <th>고가</th>,\n",
       " <th>저가</th>,\n",
       " <th>거래량</th>]"
      ]
     },
     "execution_count": 127,
     "metadata": {},
     "output_type": "execute_result"
    }
   ],
   "source": [
    "html.select('th')"
   ]
  },
  {
   "cell_type": "code",
   "execution_count": 2,
   "metadata": {},
   "outputs": [],
   "source": [
    "from selenium import webdriver"
   ]
  },
  {
   "cell_type": "code",
   "execution_count": null,
   "metadata": {},
   "outputs": [],
   "source": []
  }
 ],
 "metadata": {
  "celltoolbar": "Slideshow",
  "colab": {
   "authorship_tag": "ABX9TyMM9bcGMQdkO/nwIX0kAuhm",
   "collapsed_sections": [],
   "name": "08_crawler.ipynb",
   "provenance": []
  },
  "kernelspec": {
   "display_name": "Python 3",
   "language": "python",
   "name": "python3"
  },
  "language_info": {
   "codemirror_mode": {
    "name": "ipython",
    "version": 3
   },
   "file_extension": ".py",
   "mimetype": "text/x-python",
   "name": "python",
   "nbconvert_exporter": "python",
   "pygments_lexer": "ipython3",
   "version": "3.9.1"
  },
  "toc": {
   "base_numbering": 1,
   "nav_menu": {},
   "number_sections": true,
   "sideBar": true,
   "skip_h1_title": true,
   "title_cell": "Table of Contents",
   "title_sidebar": "Contents",
   "toc_cell": false,
   "toc_position": {},
   "toc_section_display": true,
   "toc_window_display": false
  }
 },
 "nbformat": 4,
 "nbformat_minor": 1
}
