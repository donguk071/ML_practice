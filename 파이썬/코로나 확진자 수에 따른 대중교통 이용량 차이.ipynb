{
 "cells": [
  {
   "cell_type": "markdown",
   "metadata": {},
   "source": [
    "# 코로나 확진자 수에 따른 대중교통이용량 차이"
   ]
  },
  {
   "cell_type": "code",
   "execution_count": 80,
   "metadata": {},
   "outputs": [],
   "source": [
    "# 계산, 데이터프레임\n",
    "import numpy as np\n",
    "import pandas as pd\n",
    "\n",
    "# 크롤링\n",
    "import requests\n",
    "from bs4 import BeautifulSoup\n",
    "import json\n",
    "\n",
    "# 시각화\n",
    "import matplotlib.pyplot as plt\n",
    "import seaborn as sns\n",
    "\n",
    "# 글꼴\n",
    "import matplotlib.font_manager as fm\n",
    "fm.get_fontconfig_fonts()\n",
    "\n",
    "plt.rc('font', family='Malgun Gothic')"
   ]
  },
  {
   "cell_type": "code",
   "execution_count": 83,
   "metadata": {},
   "outputs": [
    {
     "name": "stdout",
     "output_type": "stream",
     "text": [
      "             Date\n",
      "0      2021-02-03\n",
      "1      2021-02-04\n",
      "2      2021-02-04\n",
      "3      2021-02-04\n",
      "4      2021-02-04\n",
      "5      2021-02-04\n",
      "6      2021-02-04\n",
      "7      2021-02-04\n",
      "8      2021-02-04\n",
      "9      2021-02-04\n",
      "10     2021-02-04\n",
      "11     2021-02-04\n",
      "12     2021-02-04\n",
      "13     2021-02-04\n",
      "14     2021-02-04\n",
      "15     2021-02-04\n",
      "16     2021-02-04\n",
      "17     2021-02-04\n",
      "18     2021-02-04\n",
      "19     2021-02-04\n",
      "20     2021-02-04\n",
      "21     2021-02-04\n",
      "22     2021-02-04\n",
      "23     2021-02-04\n",
      "24     2021-02-04\n",
      "25     2021-02-04\n",
      "26     2021-02-04\n",
      "27     2021-02-04\n",
      "28     2021-02-04\n",
      "29     2021-02-04\n",
      "...           ...\n",
      "14770  2020-12-05\n",
      "14771  2020-12-05\n",
      "14772  2020-12-05\n",
      "14773  2020-12-05\n",
      "14774  2020-12-05\n",
      "14775  2020-12-05\n",
      "14776  2020-12-05\n",
      "14777  2020-12-05\n",
      "14778  2020-12-05\n",
      "14779  2020-12-05\n",
      "14780  2020-12-07\n",
      "14781  2020-12-05\n",
      "14782  2020-12-05\n",
      "14783  2020-12-05\n",
      "14784  2020-12-05\n",
      "14785  2020-12-05\n",
      "14786  2020-12-05\n",
      "14787  2020-12-05\n",
      "14788  2020-12-05\n",
      "14789  2020-12-05\n",
      "14790  2020-12-05\n",
      "14791  2020-12-05\n",
      "14792  2020-12-05\n",
      "14793  2020-12-05\n",
      "14794  2020-12-05\n",
      "14795  2020-12-05\n",
      "14796  2020-12-05\n",
      "14797  2020-12-05\n",
      "14798  2020-12-05\n",
      "14799  2020-12-05\n",
      "\n",
      "[14800 rows x 1 columns]\n"
     ]
    }
   ],
   "source": [
    "Date=[]\n",
    "\n",
    "for i in range(148):\n",
    "    url=f'https://news.seoul.go.kr/api/27/getCorona19Status/get_status_ajax.php?draw=19&columns%5B0%5D%5Bdata%5D=0&columns%5B0%5D%5Bname%5D=&columns%5B0%5D%5Bsearchable%5D=true&columns%5B0%5D%5Borderable%5D=true&columns%5B0%5D%5Bsearch%5D%5Bvalue%5D=&columns%5B0%5D%5Bsearch%5D%5Bregex%5D=false&columns%5B1%5D%5Bdata%5D=1&columns%5B1%5D%5Bname%5D=&columns%5B1%5D%5Bsearchable%5D=true&columns%5B1%5D%5Borderable%5D=true&columns%5B1%5D%5Bsearch%5D%5Bvalue%5D=&columns%5B1%5D%5Bsearch%5D%5Bregex%5D=false&columns%5B2%5D%5Bdata%5D=2&columns%5B2%5D%5Bname%5D=&columns%5B2%5D%5Bsearchable%5D=true&columns%5B2%5D%5Borderable%5D=true&columns%5B2%5D%5Bsearch%5D%5Bvalue%5D=&columns%5B2%5D%5Bsearch%5D%5Bregex%5D=false&columns%5B3%5D%5Bdata%5D=3&columns%5B3%5D%5Bname%5D=&columns%5B3%5D%5Bsearchable%5D=true&columns%5B3%5D%5Borderable%5D=true&columns%5B3%5D%5Bsearch%5D%5Bvalue%5D=&columns%5B3%5D%5Bsearch%5D%5Bregex%5D=false&columns%5B4%5D%5Bdata%5D=4&columns%5B4%5D%5Bname%5D=&columns%5B4%5D%5Bsearchable%5D=true&columns%5B4%5D%5Borderable%5D=true&columns%5B4%5D%5Bsearch%5D%5Bvalue%5D=&columns%5B4%5D%5Bsearch%5D%5Bregex%5D=false&columns%5B5%5D%5Bdata%5D=5&columns%5B5%5D%5Bname%5D=&columns%5B5%5D%5Bsearchable%5D=true&columns%5B5%5D%5Borderable%5D=true&columns%5B5%5D%5Bsearch%5D%5Bvalue%5D=&columns%5B5%5D%5Bsearch%5D%5Bregex%5D=false&columns%5B6%5D%5Bdata%5D=6&columns%5B6%5D%5Bname%5D=&columns%5B6%5D%5Bsearchable%5D=true&columns%5B6%5D%5Borderable%5D=true&columns%5B6%5D%5Bsearch%5D%5Bvalue%5D=&columns%5B6%5D%5Bsearch%5D%5Bregex%5D=false&order%5B0%5D%5Bcolumn%5D=0&order%5B0%5D%5Bdir%5D=desc&start={100*i}&length=100&search%5Bvalue%5D=&search%5Bregex%5D=true&_=1612412713550'\n",
    "    \n",
    "    head={\n",
    "        'referer':'https://www.seoul.go.kr/',\n",
    "        'user-agent':'Mozilla/5.0 (Windows NT 10.0; Win64; x64) AppleWebKit/537.36 (KHTML, like Gecko) Chrome/88.0.4324.146 Safari/537.36'\n",
    "    }\n",
    "    \n",
    "    covid_data = requests.get(url, headers = head)\n",
    "    data = json.loads(covid_data.text)\n",
    "    \n",
    "    for li in data['data']:\n",
    "        Date.append(li[2])\n",
    "        \n",
    "df2 = pd.DataFrame(columns=['Date'])\n",
    "\n",
    "df2['Date'] = Date\n",
    "\n",
    "print(df2)"
   ]
  },
  {
   "cell_type": "code",
   "execution_count": 84,
   "metadata": {},
   "outputs": [],
   "source": [
    "df2.to_csv(\"코로나(201205~210203).csv\")"
   ]
  },
  {
   "cell_type": "code",
   "execution_count": 85,
   "metadata": {},
   "outputs": [
    {
     "name": "stdout",
     "output_type": "stream",
     "text": [
      "            Date\n",
      "0     2020-12-05\n",
      "1     2020-12-05\n",
      "2     2020-12-05\n",
      "3     2020-12-05\n",
      "4     2020-12-05\n",
      "5     2020-12-05\n",
      "6     2020-12-05\n",
      "7     2020-12-05\n",
      "8     2020-12-05\n",
      "9     2020-12-05\n",
      "10    2020-12-05\n",
      "11    2020-12-05\n",
      "12    2020-12-05\n",
      "13    2020-12-05\n",
      "14    2020-12-05\n",
      "15    2020-12-05\n",
      "16    2020-12-05\n",
      "17    2020-12-05\n",
      "18    2020-12-05\n",
      "19    2020-12-05\n",
      "20    2020-12-05\n",
      "21    2020-12-05\n",
      "22    2020-12-05\n",
      "23    2020-12-05\n",
      "24    2020-12-05\n",
      "25    2020-12-05\n",
      "26    2020-12-05\n",
      "27    2020-12-05\n",
      "28    2020-12-05\n",
      "29    2020-12-05\n",
      "...          ...\n",
      "9970  2020-02-22\n",
      "9971  2020-02-23\n",
      "9972  2020-02-23\n",
      "9973  2020-02-23\n",
      "9974  2020-02-22\n",
      "9975  2020-02-22\n",
      "9976  2020-02-22\n",
      "9977  2020-02-21\n",
      "9978  2020-02-21\n",
      "9979  2020-02-20\n",
      "9980  2020-02-20\n",
      "9981  2020-02-20\n",
      "9982  2020-02-20\n",
      "9983  2020-02-20\n",
      "9984  2020-02-19\n",
      "9985  2020-02-19\n",
      "9986  2020-02-16\n",
      "9987  2020-02-16\n",
      "9988  2020-02-06\n",
      "9989  2020-02-06\n",
      "9990  2020-02-05\n",
      "9991  2020-02-05\n",
      "9992  2020-02-02\n",
      "9993  2020-01-31\n",
      "9994  2020-01-31\n",
      "9995  2020-01-31\n",
      "9996  2020-01-30\n",
      "9997  2020-01-30\n",
      "9998  2020-01-30\n",
      "9999  2020-01-24\n",
      "\n",
      "[10000 rows x 1 columns]\n"
     ]
    }
   ],
   "source": [
    "Date=[]\n",
    "\n",
    "for i in range(100):\n",
    "    url=f'https://news.seoul.go.kr/api/27/getCorona19Status/get_status_ajax_pre.php?draw=2&columns%5B0%5D%5Bdata%5D=0&columns%5B0%5D%5Bname%5D=&columns%5B0%5D%5Bsearchable%5D=true&columns%5B0%5D%5Borderable%5D=true&columns%5B0%5D%5Bsearch%5D%5Bvalue%5D=&columns%5B0%5D%5Bsearch%5D%5Bregex%5D=false&columns%5B1%5D%5Bdata%5D=1&columns%5B1%5D%5Bname%5D=&columns%5B1%5D%5Bsearchable%5D=true&columns%5B1%5D%5Borderable%5D=true&columns%5B1%5D%5Bsearch%5D%5Bvalue%5D=&columns%5B1%5D%5Bsearch%5D%5Bregex%5D=false&columns%5B2%5D%5Bdata%5D=2&columns%5B2%5D%5Bname%5D=&columns%5B2%5D%5Bsearchable%5D=true&columns%5B2%5D%5Borderable%5D=true&columns%5B2%5D%5Bsearch%5D%5Bvalue%5D=&columns%5B2%5D%5Bsearch%5D%5Bregex%5D=false&columns%5B3%5D%5Bdata%5D=3&columns%5B3%5D%5Bname%5D=&columns%5B3%5D%5Bsearchable%5D=true&columns%5B3%5D%5Borderable%5D=true&columns%5B3%5D%5Bsearch%5D%5Bvalue%5D=&columns%5B3%5D%5Bsearch%5D%5Bregex%5D=false&columns%5B4%5D%5Bdata%5D=4&columns%5B4%5D%5Bname%5D=&columns%5B4%5D%5Bsearchable%5D=true&columns%5B4%5D%5Borderable%5D=true&columns%5B4%5D%5Bsearch%5D%5Bvalue%5D=&columns%5B4%5D%5Bsearch%5D%5Bregex%5D=false&columns%5B5%5D%5Bdata%5D=5&columns%5B5%5D%5Bname%5D=&columns%5B5%5D%5Bsearchable%5D=true&columns%5B5%5D%5Borderable%5D=true&columns%5B5%5D%5Bsearch%5D%5Bvalue%5D=&columns%5B5%5D%5Bsearch%5D%5Bregex%5D=false&columns%5B6%5D%5Bdata%5D=6&columns%5B6%5D%5Bname%5D=&columns%5B6%5D%5Bsearchable%5D=true&columns%5B6%5D%5Borderable%5D=true&columns%5B6%5D%5Bsearch%5D%5Bvalue%5D=&columns%5B6%5D%5Bsearch%5D%5Bregex%5D=false&order%5B0%5D%5Bcolumn%5D=0&order%5B0%5D%5Bdir%5D=desc&start={i*100}&length=100&search%5Bvalue%5D=&search%5Bregex%5D=true&_=1612487334119'\n",
    "    \n",
    "    head={\n",
    "        'referer':'https://www.seoul.go.kr/',\n",
    "        'user-agent':'Mozilla/5.0 (Windows NT 10.0; Win64; x64) AppleWebKit/537.36 (KHTML, like Gecko) Chrome/88.0.4324.146 Safari/537.36'\n",
    "    }\n",
    "    \n",
    "    covid_data = requests.get(url, headers = head)\n",
    "    data = json.loads(covid_data.text)\n",
    "    \n",
    "    for li in data['data']:\n",
    "        Date.append(li[2])\n",
    "        \n",
    "df = pd.DataFrame(columns=['Date'])\n",
    "\n",
    "df['Date'] = Date\n",
    "\n",
    "print(df)"
   ]
  },
  {
   "cell_type": "code",
   "execution_count": 86,
   "metadata": {},
   "outputs": [],
   "source": [
    "df.to_csv(\"코로나(200124~201205).csv\")"
   ]
  },
  {
   "cell_type": "code",
   "execution_count": 2,
   "metadata": {},
   "outputs": [],
   "source": [
    "# 2019년 데이터\n",
    "bus_11 = pd.read_csv('BUS_STATION_BOARDING_MONTH_201911.csv', engine='python')\n",
    "bus_12 = pd.read_csv('BUS_STATION_BOARDING_MONTH_201912_1.csv', engine='python')\n",
    "\n",
    "sub_11 = pd.read_csv('CARD_SUBWAY_MONTH_201911.csv', engine='python', encoding=\"UTF-8\")\n",
    "sub_12 = pd.read_csv('CARD_SUBWAY_MONTH_201912.csv', engine='python', encoding=\"UTF-8\")\n",
    "\n",
    "# 2020년 데이터\n",
    "bus11 = pd.read_csv('BUS_STATION_BOARDING_MONTH_202011.csv', engine='python')\n",
    "bus12 = pd.read_csv('BUS_STATION_BOARDING_MONTH_202012.csv', engine='python')\n",
    "\n",
    "sub11 = pd.read_csv('CARD_SUBWAY_MONTH_202011.csv', engine='python', encoding=\"UTF-8\")\n",
    "sub12 = pd.read_csv('CARD_SUBWAY_MONTH_202012.csv', engine='python', encoding=\"UTF-8\")\n",
    "\n",
    "covid1 = pd.read_csv('코로나(200124~201205).csv', engine=\"python\")\n",
    "covid2 = pd.read_csv('코로나(201205~210203).csv', engine=\"python\")"
   ]
  },
  {
   "cell_type": "markdown",
   "metadata": {},
   "source": [
    "## 데이터 확인"
   ]
  },
  {
   "cell_type": "code",
   "execution_count": 3,
   "metadata": {},
   "outputs": [
    {
     "name": "stdout",
     "output_type": "stream",
     "text": [
      "<class 'pandas.core.frame.DataFrame'>\n",
      "RangeIndex: 1157727 entries, 0 to 1157726\n",
      "Data columns (total 8 columns):\n",
      "사용일자          1157727 non-null int64\n",
      "노선번호          1157727 non-null object\n",
      "노선명           1157727 non-null object\n",
      "버스정류장ARS번호    1157727 non-null object\n",
      "역명            1157727 non-null object\n",
      "승차총승객수        1157727 non-null int64\n",
      "하차총승객수        1157727 non-null int64\n",
      "등록일자          1157727 non-null int64\n",
      "dtypes: int64(4), object(4)\n",
      "memory usage: 70.7+ MB\n"
     ]
    }
   ],
   "source": [
    "bus11.info()"
   ]
  },
  {
   "cell_type": "code",
   "execution_count": 4,
   "metadata": {
    "scrolled": true
   },
   "outputs": [
    {
     "data": {
      "text/html": [
       "<div>\n",
       "<style scoped>\n",
       "    .dataframe tbody tr th:only-of-type {\n",
       "        vertical-align: middle;\n",
       "    }\n",
       "\n",
       "    .dataframe tbody tr th {\n",
       "        vertical-align: top;\n",
       "    }\n",
       "\n",
       "    .dataframe thead th {\n",
       "        text-align: right;\n",
       "    }\n",
       "</style>\n",
       "<table border=\"1\" class=\"dataframe\">\n",
       "  <thead>\n",
       "    <tr style=\"text-align: right;\">\n",
       "      <th></th>\n",
       "      <th>사용일자</th>\n",
       "      <th>노선번호</th>\n",
       "      <th>노선명</th>\n",
       "      <th>버스정류장ARS번호</th>\n",
       "      <th>역명</th>\n",
       "      <th>승차총승객수</th>\n",
       "      <th>하차총승객수</th>\n",
       "      <th>등록일자</th>\n",
       "    </tr>\n",
       "  </thead>\n",
       "  <tbody>\n",
       "    <tr>\n",
       "      <th>0</th>\n",
       "      <td>20201101</td>\n",
       "      <td>160</td>\n",
       "      <td>160번(도봉산~온수동)</td>\n",
       "      <td>17184</td>\n",
       "      <td>온수역</td>\n",
       "      <td>0</td>\n",
       "      <td>260</td>\n",
       "      <td>20201104</td>\n",
       "    </tr>\n",
       "    <tr>\n",
       "      <th>1</th>\n",
       "      <td>20201101</td>\n",
       "      <td>100</td>\n",
       "      <td>100번(하계동~용산구청)</td>\n",
       "      <td>11428</td>\n",
       "      <td>한성여객종점</td>\n",
       "      <td>13</td>\n",
       "      <td>1</td>\n",
       "      <td>20201104</td>\n",
       "    </tr>\n",
       "    <tr>\n",
       "      <th>2</th>\n",
       "      <td>20201101</td>\n",
       "      <td>100</td>\n",
       "      <td>100번(하계동~용산구청)</td>\n",
       "      <td>11374</td>\n",
       "      <td>서울시립북서울미술관</td>\n",
       "      <td>32</td>\n",
       "      <td>0</td>\n",
       "      <td>20201104</td>\n",
       "    </tr>\n",
       "    <tr>\n",
       "      <th>3</th>\n",
       "      <td>20201101</td>\n",
       "      <td>100</td>\n",
       "      <td>100번(하계동~용산구청)</td>\n",
       "      <td>11380</td>\n",
       "      <td>목련아파트상가</td>\n",
       "      <td>159</td>\n",
       "      <td>35</td>\n",
       "      <td>20201104</td>\n",
       "    </tr>\n",
       "    <tr>\n",
       "      <th>4</th>\n",
       "      <td>20201101</td>\n",
       "      <td>100</td>\n",
       "      <td>100번(하계동~용산구청)</td>\n",
       "      <td>11339</td>\n",
       "      <td>월계헬스케어센터</td>\n",
       "      <td>127</td>\n",
       "      <td>57</td>\n",
       "      <td>20201104</td>\n",
       "    </tr>\n",
       "  </tbody>\n",
       "</table>\n",
       "</div>"
      ],
      "text/plain": [
       "       사용일자 노선번호             노선명 버스정류장ARS번호          역명  승차총승객수  하차총승객수  \\\n",
       "0  20201101  160   160번(도봉산~온수동)      17184         온수역       0     260   \n",
       "1  20201101  100  100번(하계동~용산구청)      11428      한성여객종점      13       1   \n",
       "2  20201101  100  100번(하계동~용산구청)      11374  서울시립북서울미술관      32       0   \n",
       "3  20201101  100  100번(하계동~용산구청)      11380     목련아파트상가     159      35   \n",
       "4  20201101  100  100번(하계동~용산구청)      11339    월계헬스케어센터     127      57   \n",
       "\n",
       "       등록일자  \n",
       "0  20201104  \n",
       "1  20201104  \n",
       "2  20201104  \n",
       "3  20201104  \n",
       "4  20201104  "
      ]
     },
     "execution_count": 4,
     "metadata": {},
     "output_type": "execute_result"
    }
   ],
   "source": [
    "bus11.head()"
   ]
  },
  {
   "cell_type": "code",
   "execution_count": 5,
   "metadata": {},
   "outputs": [
    {
     "name": "stdout",
     "output_type": "stream",
     "text": [
      "<class 'pandas.core.frame.DataFrame'>\n",
      "RangeIndex: 17943 entries, 0 to 17942\n",
      "Data columns (total 6 columns):\n",
      "사용일자      17943 non-null int64\n",
      "노선명       17943 non-null object\n",
      "역명        17943 non-null object\n",
      "승차총승객수    17943 non-null int64\n",
      "하차총승객수    17943 non-null int64\n",
      "등록일자      17943 non-null int64\n",
      "dtypes: int64(4), object(2)\n",
      "memory usage: 841.2+ KB\n"
     ]
    }
   ],
   "source": [
    "sub11.info()"
   ]
  },
  {
   "cell_type": "code",
   "execution_count": 6,
   "metadata": {},
   "outputs": [
    {
     "data": {
      "text/html": [
       "<div>\n",
       "<style scoped>\n",
       "    .dataframe tbody tr th:only-of-type {\n",
       "        vertical-align: middle;\n",
       "    }\n",
       "\n",
       "    .dataframe tbody tr th {\n",
       "        vertical-align: top;\n",
       "    }\n",
       "\n",
       "    .dataframe thead th {\n",
       "        text-align: right;\n",
       "    }\n",
       "</style>\n",
       "<table border=\"1\" class=\"dataframe\">\n",
       "  <thead>\n",
       "    <tr style=\"text-align: right;\">\n",
       "      <th></th>\n",
       "      <th>사용일자</th>\n",
       "      <th>노선명</th>\n",
       "      <th>역명</th>\n",
       "      <th>승차총승객수</th>\n",
       "      <th>하차총승객수</th>\n",
       "      <th>등록일자</th>\n",
       "    </tr>\n",
       "  </thead>\n",
       "  <tbody>\n",
       "    <tr>\n",
       "      <th>0</th>\n",
       "      <td>20201101</td>\n",
       "      <td>중앙선</td>\n",
       "      <td>양수</td>\n",
       "      <td>1411</td>\n",
       "      <td>1337</td>\n",
       "      <td>20201104</td>\n",
       "    </tr>\n",
       "    <tr>\n",
       "      <th>1</th>\n",
       "      <td>20201101</td>\n",
       "      <td>중앙선</td>\n",
       "      <td>운길산</td>\n",
       "      <td>734</td>\n",
       "      <td>689</td>\n",
       "      <td>20201104</td>\n",
       "    </tr>\n",
       "    <tr>\n",
       "      <th>2</th>\n",
       "      <td>20201101</td>\n",
       "      <td>중앙선</td>\n",
       "      <td>팔당</td>\n",
       "      <td>921</td>\n",
       "      <td>913</td>\n",
       "      <td>20201104</td>\n",
       "    </tr>\n",
       "    <tr>\n",
       "      <th>3</th>\n",
       "      <td>20201101</td>\n",
       "      <td>중앙선</td>\n",
       "      <td>도심</td>\n",
       "      <td>1070</td>\n",
       "      <td>985</td>\n",
       "      <td>20201104</td>\n",
       "    </tr>\n",
       "    <tr>\n",
       "      <th>4</th>\n",
       "      <td>20201101</td>\n",
       "      <td>중앙선</td>\n",
       "      <td>덕소</td>\n",
       "      <td>3017</td>\n",
       "      <td>3102</td>\n",
       "      <td>20201104</td>\n",
       "    </tr>\n",
       "  </tbody>\n",
       "</table>\n",
       "</div>"
      ],
      "text/plain": [
       "       사용일자  노선명   역명  승차총승객수  하차총승객수      등록일자\n",
       "0  20201101  중앙선   양수    1411    1337  20201104\n",
       "1  20201101  중앙선  운길산     734     689  20201104\n",
       "2  20201101  중앙선   팔당     921     913  20201104\n",
       "3  20201101  중앙선   도심    1070     985  20201104\n",
       "4  20201101  중앙선   덕소    3017    3102  20201104"
      ]
     },
     "execution_count": 6,
     "metadata": {},
     "output_type": "execute_result"
    }
   ],
   "source": [
    "sub11.head()"
   ]
  },
  {
   "cell_type": "code",
   "execution_count": 7,
   "metadata": {},
   "outputs": [
    {
     "name": "stdout",
     "output_type": "stream",
     "text": [
      "<class 'pandas.core.frame.DataFrame'>\n",
      "RangeIndex: 10000 entries, 0 to 9999\n",
      "Data columns (total 2 columns):\n",
      "Unnamed: 0    10000 non-null int64\n",
      "Date          10000 non-null object\n",
      "dtypes: int64(1), object(1)\n",
      "memory usage: 156.3+ KB\n"
     ]
    }
   ],
   "source": [
    "covid1.info()"
   ]
  },
  {
   "cell_type": "code",
   "execution_count": 8,
   "metadata": {},
   "outputs": [
    {
     "data": {
      "text/html": [
       "<div>\n",
       "<style scoped>\n",
       "    .dataframe tbody tr th:only-of-type {\n",
       "        vertical-align: middle;\n",
       "    }\n",
       "\n",
       "    .dataframe tbody tr th {\n",
       "        vertical-align: top;\n",
       "    }\n",
       "\n",
       "    .dataframe thead th {\n",
       "        text-align: right;\n",
       "    }\n",
       "</style>\n",
       "<table border=\"1\" class=\"dataframe\">\n",
       "  <thead>\n",
       "    <tr style=\"text-align: right;\">\n",
       "      <th></th>\n",
       "      <th>Unnamed: 0</th>\n",
       "      <th>Date</th>\n",
       "    </tr>\n",
       "  </thead>\n",
       "  <tbody>\n",
       "    <tr>\n",
       "      <th>0</th>\n",
       "      <td>0</td>\n",
       "      <td>2020-12-05</td>\n",
       "    </tr>\n",
       "    <tr>\n",
       "      <th>1</th>\n",
       "      <td>1</td>\n",
       "      <td>2020-12-05</td>\n",
       "    </tr>\n",
       "    <tr>\n",
       "      <th>2</th>\n",
       "      <td>2</td>\n",
       "      <td>2020-12-05</td>\n",
       "    </tr>\n",
       "    <tr>\n",
       "      <th>3</th>\n",
       "      <td>3</td>\n",
       "      <td>2020-12-05</td>\n",
       "    </tr>\n",
       "    <tr>\n",
       "      <th>4</th>\n",
       "      <td>4</td>\n",
       "      <td>2020-12-05</td>\n",
       "    </tr>\n",
       "  </tbody>\n",
       "</table>\n",
       "</div>"
      ],
      "text/plain": [
       "   Unnamed: 0        Date\n",
       "0           0  2020-12-05\n",
       "1           1  2020-12-05\n",
       "2           2  2020-12-05\n",
       "3           3  2020-12-05\n",
       "4           4  2020-12-05"
      ]
     },
     "execution_count": 8,
     "metadata": {},
     "output_type": "execute_result"
    }
   ],
   "source": [
    "covid1.head()"
   ]
  },
  {
   "cell_type": "markdown",
   "metadata": {},
   "source": [
    "## 버스 데이터 전처리(2019)"
   ]
  },
  {
   "cell_type": "code",
   "execution_count": 9,
   "metadata": {},
   "outputs": [
    {
     "data": {
      "text/html": [
       "<div>\n",
       "<style scoped>\n",
       "    .dataframe tbody tr th:only-of-type {\n",
       "        vertical-align: middle;\n",
       "    }\n",
       "\n",
       "    .dataframe tbody tr th {\n",
       "        vertical-align: top;\n",
       "    }\n",
       "\n",
       "    .dataframe thead th {\n",
       "        text-align: right;\n",
       "    }\n",
       "</style>\n",
       "<table border=\"1\" class=\"dataframe\">\n",
       "  <thead>\n",
       "    <tr style=\"text-align: right;\">\n",
       "      <th></th>\n",
       "      <th>일</th>\n",
       "      <th>이용승객수</th>\n",
       "    </tr>\n",
       "  </thead>\n",
       "  <tbody>\n",
       "    <tr>\n",
       "      <th>0</th>\n",
       "      <td>1</td>\n",
       "      <td>6029871</td>\n",
       "    </tr>\n",
       "    <tr>\n",
       "      <th>1</th>\n",
       "      <td>2</td>\n",
       "      <td>4548381</td>\n",
       "    </tr>\n",
       "    <tr>\n",
       "      <th>2</th>\n",
       "      <td>3</td>\n",
       "      <td>3500751</td>\n",
       "    </tr>\n",
       "    <tr>\n",
       "      <th>3</th>\n",
       "      <td>4</td>\n",
       "      <td>5797882</td>\n",
       "    </tr>\n",
       "    <tr>\n",
       "      <th>4</th>\n",
       "      <td>5</td>\n",
       "      <td>5909345</td>\n",
       "    </tr>\n",
       "  </tbody>\n",
       "</table>\n",
       "</div>"
      ],
      "text/plain": [
       "   일    이용승객수\n",
       "0  1  6029871\n",
       "1  2  4548381\n",
       "2  3  3500751\n",
       "3  4  5797882\n",
       "4  5  5909345"
      ]
     },
     "execution_count": 9,
     "metadata": {},
     "output_type": "execute_result"
    }
   ],
   "source": [
    "bus_11['사용일자'] = pd.to_datetime(bus_11['사용일자'],format='%Y%m%d')\n",
    "\n",
    "bus_11[\"일\"] = bus_11['사용일자'].dt.day\n",
    "\n",
    "bus_11t = bus_11.groupby('일')['승차총승객수'].sum().reset_index()\n",
    "\n",
    "bus_11t.columns = ['일', '이용승객수']\n",
    "\n",
    "bus_11t.head()"
   ]
  },
  {
   "cell_type": "code",
   "execution_count": 10,
   "metadata": {},
   "outputs": [
    {
     "data": {
      "text/html": [
       "<div>\n",
       "<style scoped>\n",
       "    .dataframe tbody tr th:only-of-type {\n",
       "        vertical-align: middle;\n",
       "    }\n",
       "\n",
       "    .dataframe tbody tr th {\n",
       "        vertical-align: top;\n",
       "    }\n",
       "\n",
       "    .dataframe thead th {\n",
       "        text-align: right;\n",
       "    }\n",
       "</style>\n",
       "<table border=\"1\" class=\"dataframe\">\n",
       "  <thead>\n",
       "    <tr style=\"text-align: right;\">\n",
       "      <th></th>\n",
       "      <th>일</th>\n",
       "      <th>이용승객수</th>\n",
       "    </tr>\n",
       "  </thead>\n",
       "  <tbody>\n",
       "    <tr>\n",
       "      <th>0</th>\n",
       "      <td>1</td>\n",
       "      <td>3125944</td>\n",
       "    </tr>\n",
       "    <tr>\n",
       "      <th>1</th>\n",
       "      <td>2</td>\n",
       "      <td>5788812</td>\n",
       "    </tr>\n",
       "    <tr>\n",
       "      <th>2</th>\n",
       "      <td>3</td>\n",
       "      <td>5862813</td>\n",
       "    </tr>\n",
       "    <tr>\n",
       "      <th>3</th>\n",
       "      <td>4</td>\n",
       "      <td>5962504</td>\n",
       "    </tr>\n",
       "    <tr>\n",
       "      <th>4</th>\n",
       "      <td>5</td>\n",
       "      <td>5879718</td>\n",
       "    </tr>\n",
       "  </tbody>\n",
       "</table>\n",
       "</div>"
      ],
      "text/plain": [
       "   일    이용승객수\n",
       "0  1  3125944\n",
       "1  2  5788812\n",
       "2  3  5862813\n",
       "3  4  5962504\n",
       "4  5  5879718"
      ]
     },
     "execution_count": 10,
     "metadata": {},
     "output_type": "execute_result"
    }
   ],
   "source": [
    "bus_12['사용일자'] = pd.to_datetime(bus_12['사용일자'],format='%Y%m%d')\n",
    "\n",
    "bus_12[\"일\"] = bus_12['사용일자'].dt.day\n",
    "\n",
    "bus_12t = bus_12.groupby('일')['승차총승객수'].sum().reset_index()\n",
    "\n",
    "bus_12t.columns = ['일', '이용승객수']\n",
    "\n",
    "bus_12t.head()"
   ]
  },
  {
   "cell_type": "markdown",
   "metadata": {},
   "source": [
    "## 버스 데이터 전처리(2020)"
   ]
  },
  {
   "cell_type": "code",
   "execution_count": 11,
   "metadata": {},
   "outputs": [
    {
     "data": {
      "text/html": [
       "<div>\n",
       "<style scoped>\n",
       "    .dataframe tbody tr th:only-of-type {\n",
       "        vertical-align: middle;\n",
       "    }\n",
       "\n",
       "    .dataframe tbody tr th {\n",
       "        vertical-align: top;\n",
       "    }\n",
       "\n",
       "    .dataframe thead th {\n",
       "        text-align: right;\n",
       "    }\n",
       "</style>\n",
       "<table border=\"1\" class=\"dataframe\">\n",
       "  <thead>\n",
       "    <tr style=\"text-align: right;\">\n",
       "      <th></th>\n",
       "      <th>일</th>\n",
       "      <th>이용승객수</th>\n",
       "    </tr>\n",
       "  </thead>\n",
       "  <tbody>\n",
       "    <tr>\n",
       "      <th>0</th>\n",
       "      <td>1</td>\n",
       "      <td>2363381</td>\n",
       "    </tr>\n",
       "    <tr>\n",
       "      <th>1</th>\n",
       "      <td>2</td>\n",
       "      <td>4796757</td>\n",
       "    </tr>\n",
       "    <tr>\n",
       "      <th>2</th>\n",
       "      <td>3</td>\n",
       "      <td>4875158</td>\n",
       "    </tr>\n",
       "    <tr>\n",
       "      <th>3</th>\n",
       "      <td>4</td>\n",
       "      <td>4881139</td>\n",
       "    </tr>\n",
       "    <tr>\n",
       "      <th>4</th>\n",
       "      <td>5</td>\n",
       "      <td>4890992</td>\n",
       "    </tr>\n",
       "  </tbody>\n",
       "</table>\n",
       "</div>"
      ],
      "text/plain": [
       "   일    이용승객수\n",
       "0  1  2363381\n",
       "1  2  4796757\n",
       "2  3  4875158\n",
       "3  4  4881139\n",
       "4  5  4890992"
      ]
     },
     "execution_count": 11,
     "metadata": {},
     "output_type": "execute_result"
    }
   ],
   "source": [
    "# 날짜를 datetime 형식으로 변환 (YYYY-MM-DD)\n",
    "bus11['사용일자'] = pd.to_datetime(bus11['사용일자'],format='%Y%m%d')\n",
    "\n",
    "# 날짜 중 '일'만 추출하여 새로운 컬럼에 저장\n",
    "bus11['일'] = bus11['사용일자'].dt.day\n",
    "\n",
    "# 일별 승차총승객수 계산하여 새로운 데이터프레임에 저장\n",
    "bus11_total = bus11.groupby('일')['승차총승객수'].sum().reset_index()\n",
    "\n",
    "# 컬럼명 변경\n",
    "bus11_total.columns = ['일', '이용승객수']\n",
    "\n",
    "bus11_total.head()"
   ]
  },
  {
   "cell_type": "code",
   "execution_count": 12,
   "metadata": {},
   "outputs": [
    {
     "data": {
      "text/html": [
       "<div>\n",
       "<style scoped>\n",
       "    .dataframe tbody tr th:only-of-type {\n",
       "        vertical-align: middle;\n",
       "    }\n",
       "\n",
       "    .dataframe tbody tr th {\n",
       "        vertical-align: top;\n",
       "    }\n",
       "\n",
       "    .dataframe thead th {\n",
       "        text-align: right;\n",
       "    }\n",
       "</style>\n",
       "<table border=\"1\" class=\"dataframe\">\n",
       "  <thead>\n",
       "    <tr style=\"text-align: right;\">\n",
       "      <th></th>\n",
       "      <th>일</th>\n",
       "      <th>이용승객수</th>\n",
       "    </tr>\n",
       "  </thead>\n",
       "  <tbody>\n",
       "    <tr>\n",
       "      <th>0</th>\n",
       "      <td>1</td>\n",
       "      <td>4096780</td>\n",
       "    </tr>\n",
       "    <tr>\n",
       "      <th>1</th>\n",
       "      <td>2</td>\n",
       "      <td>4220894</td>\n",
       "    </tr>\n",
       "    <tr>\n",
       "      <th>2</th>\n",
       "      <td>3</td>\n",
       "      <td>4113823</td>\n",
       "    </tr>\n",
       "    <tr>\n",
       "      <th>3</th>\n",
       "      <td>4</td>\n",
       "      <td>4109832</td>\n",
       "    </tr>\n",
       "    <tr>\n",
       "      <th>4</th>\n",
       "      <td>5</td>\n",
       "      <td>2678735</td>\n",
       "    </tr>\n",
       "  </tbody>\n",
       "</table>\n",
       "</div>"
      ],
      "text/plain": [
       "   일    이용승객수\n",
       "0  1  4096780\n",
       "1  2  4220894\n",
       "2  3  4113823\n",
       "3  4  4109832\n",
       "4  5  2678735"
      ]
     },
     "execution_count": 12,
     "metadata": {},
     "output_type": "execute_result"
    }
   ],
   "source": [
    "bus12['사용일자'] = pd.to_datetime(bus12['사용일자'],format='%Y%m%d')\n",
    "\n",
    "bus12['일'] = bus12['사용일자'].dt.day\n",
    "\n",
    "bus12_total = bus12.groupby('일')['승차총승객수'].sum().reset_index()\n",
    "\n",
    "bus12_total.columns = ['일', '이용승객수']\n",
    "\n",
    "bus12_total.head()"
   ]
  },
  {
   "cell_type": "markdown",
   "metadata": {},
   "source": [
    "## 지하철 데이터 전처리(2019)"
   ]
  },
  {
   "cell_type": "code",
   "execution_count": 70,
   "metadata": {},
   "outputs": [
    {
     "data": {
      "text/html": [
       "<div>\n",
       "<style scoped>\n",
       "    .dataframe tbody tr th:only-of-type {\n",
       "        vertical-align: middle;\n",
       "    }\n",
       "\n",
       "    .dataframe tbody tr th {\n",
       "        vertical-align: top;\n",
       "    }\n",
       "\n",
       "    .dataframe thead th {\n",
       "        text-align: right;\n",
       "    }\n",
       "</style>\n",
       "<table border=\"1\" class=\"dataframe\">\n",
       "  <thead>\n",
       "    <tr style=\"text-align: right;\">\n",
       "      <th></th>\n",
       "      <th>일</th>\n",
       "      <th>이용승객수</th>\n",
       "    </tr>\n",
       "  </thead>\n",
       "  <tbody>\n",
       "    <tr>\n",
       "      <th>0</th>\n",
       "      <td>1</td>\n",
       "      <td>8821280</td>\n",
       "    </tr>\n",
       "    <tr>\n",
       "      <th>1</th>\n",
       "      <td>2</td>\n",
       "      <td>6998432</td>\n",
       "    </tr>\n",
       "    <tr>\n",
       "      <th>2</th>\n",
       "      <td>3</td>\n",
       "      <td>5164051</td>\n",
       "    </tr>\n",
       "    <tr>\n",
       "      <th>3</th>\n",
       "      <td>4</td>\n",
       "      <td>8346301</td>\n",
       "    </tr>\n",
       "    <tr>\n",
       "      <th>4</th>\n",
       "      <td>5</td>\n",
       "      <td>8466623</td>\n",
       "    </tr>\n",
       "  </tbody>\n",
       "</table>\n",
       "</div>"
      ],
      "text/plain": [
       "   일    이용승객수\n",
       "0  1  8821280\n",
       "1  2  6998432\n",
       "2  3  5164051\n",
       "3  4  8346301\n",
       "4  5  8466623"
      ]
     },
     "execution_count": 70,
     "metadata": {},
     "output_type": "execute_result"
    }
   ],
   "source": [
    "sub_11['사용일자'] = pd.to_datetime(sub_11['사용일자'],format='%Y%m%d')\n",
    "\n",
    "sub_11[\"일\"] = sub_11['사용일자'].dt.day\n",
    "\n",
    "sub_11t = sub_11.groupby('일')['승차총승객수'].sum().reset_index()\n",
    "\n",
    "sub_11t.columns = ['일', '이용승객수']\n",
    "\n",
    "sub_11t[\"이용승객수\"] = sub_11t[\"이용승객수\"].astype(int)\n",
    "\n",
    "sub_11t.head()"
   ]
  },
  {
   "cell_type": "code",
   "execution_count": 69,
   "metadata": {},
   "outputs": [
    {
     "data": {
      "text/html": [
       "<div>\n",
       "<style scoped>\n",
       "    .dataframe tbody tr th:only-of-type {\n",
       "        vertical-align: middle;\n",
       "    }\n",
       "\n",
       "    .dataframe tbody tr th {\n",
       "        vertical-align: top;\n",
       "    }\n",
       "\n",
       "    .dataframe thead th {\n",
       "        text-align: right;\n",
       "    }\n",
       "</style>\n",
       "<table border=\"1\" class=\"dataframe\">\n",
       "  <thead>\n",
       "    <tr style=\"text-align: right;\">\n",
       "      <th></th>\n",
       "      <th>일</th>\n",
       "      <th>이용승객수</th>\n",
       "    </tr>\n",
       "  </thead>\n",
       "  <tbody>\n",
       "    <tr>\n",
       "      <th>0</th>\n",
       "      <td>1</td>\n",
       "      <td>4468607</td>\n",
       "    </tr>\n",
       "    <tr>\n",
       "      <th>1</th>\n",
       "      <td>2</td>\n",
       "      <td>8210046</td>\n",
       "    </tr>\n",
       "    <tr>\n",
       "      <th>2</th>\n",
       "      <td>3</td>\n",
       "      <td>8305533</td>\n",
       "    </tr>\n",
       "    <tr>\n",
       "      <th>3</th>\n",
       "      <td>4</td>\n",
       "      <td>8447163</td>\n",
       "    </tr>\n",
       "    <tr>\n",
       "      <th>4</th>\n",
       "      <td>5</td>\n",
       "      <td>8432826</td>\n",
       "    </tr>\n",
       "  </tbody>\n",
       "</table>\n",
       "</div>"
      ],
      "text/plain": [
       "   일    이용승객수\n",
       "0  1  4468607\n",
       "1  2  8210046\n",
       "2  3  8305533\n",
       "3  4  8447163\n",
       "4  5  8432826"
      ]
     },
     "execution_count": 69,
     "metadata": {},
     "output_type": "execute_result"
    }
   ],
   "source": [
    "sub_12['사용일자'] = pd.to_datetime(sub_12['사용일자'],format='%Y%m%d')\n",
    "\n",
    "sub_12[\"일\"] = sub_12['사용일자'].dt.day\n",
    "\n",
    "sub_12t = sub_12.groupby('일')['승차총승객수'].sum().reset_index()\n",
    "\n",
    "sub_12t.columns = ['일', '이용승객수']\n",
    "\n",
    "sub_12t[\"이용승객수\"] = sub_12t[\"이용승객수\"].astype(int)\n",
    "\n",
    "sub_12t.head()"
   ]
  },
  {
   "cell_type": "markdown",
   "metadata": {},
   "source": [
    "## 지하철 데이터 전처리(2020)"
   ]
  },
  {
   "cell_type": "code",
   "execution_count": 15,
   "metadata": {},
   "outputs": [
    {
     "data": {
      "text/html": [
       "<div>\n",
       "<style scoped>\n",
       "    .dataframe tbody tr th:only-of-type {\n",
       "        vertical-align: middle;\n",
       "    }\n",
       "\n",
       "    .dataframe tbody tr th {\n",
       "        vertical-align: top;\n",
       "    }\n",
       "\n",
       "    .dataframe thead th {\n",
       "        text-align: right;\n",
       "    }\n",
       "</style>\n",
       "<table border=\"1\" class=\"dataframe\">\n",
       "  <thead>\n",
       "    <tr style=\"text-align: right;\">\n",
       "      <th></th>\n",
       "      <th>일</th>\n",
       "      <th>이용승객수</th>\n",
       "    </tr>\n",
       "  </thead>\n",
       "  <tbody>\n",
       "    <tr>\n",
       "      <th>0</th>\n",
       "      <td>1</td>\n",
       "      <td>3175198</td>\n",
       "    </tr>\n",
       "    <tr>\n",
       "      <th>1</th>\n",
       "      <td>2</td>\n",
       "      <td>6746611</td>\n",
       "    </tr>\n",
       "    <tr>\n",
       "      <th>2</th>\n",
       "      <td>3</td>\n",
       "      <td>6825713</td>\n",
       "    </tr>\n",
       "    <tr>\n",
       "      <th>3</th>\n",
       "      <td>4</td>\n",
       "      <td>6847990</td>\n",
       "    </tr>\n",
       "    <tr>\n",
       "      <th>4</th>\n",
       "      <td>5</td>\n",
       "      <td>6894668</td>\n",
       "    </tr>\n",
       "  </tbody>\n",
       "</table>\n",
       "</div>"
      ],
      "text/plain": [
       "   일    이용승객수\n",
       "0  1  3175198\n",
       "1  2  6746611\n",
       "2  3  6825713\n",
       "3  4  6847990\n",
       "4  5  6894668"
      ]
     },
     "execution_count": 15,
     "metadata": {},
     "output_type": "execute_result"
    }
   ],
   "source": [
    "# 날짜를 datetime 형식으로 변환 (YYYY-MM-DD)\n",
    "sub11['사용일자'] = pd.to_datetime(sub11['사용일자'],format='%Y%m%d')\n",
    "\n",
    "# 날짜 중 '일'만 추출하여 새로운 컬럼에 저장\n",
    "sub11['일'] = sub11['사용일자'].dt.day\n",
    "\n",
    "# 일별 승차총승객수 계산하여 새로운 데이터프레임에 저장\n",
    "sub11_total = sub11.groupby('일')['승차총승객수'].sum().reset_index()\n",
    "\n",
    "# 컬럼명 변경\n",
    "sub11_total.columns = ['일', '이용승객수']\n",
    "\n",
    "sub11_total.head()"
   ]
  },
  {
   "cell_type": "code",
   "execution_count": 16,
   "metadata": {},
   "outputs": [
    {
     "data": {
      "text/html": [
       "<div>\n",
       "<style scoped>\n",
       "    .dataframe tbody tr th:only-of-type {\n",
       "        vertical-align: middle;\n",
       "    }\n",
       "\n",
       "    .dataframe tbody tr th {\n",
       "        vertical-align: top;\n",
       "    }\n",
       "\n",
       "    .dataframe thead th {\n",
       "        text-align: right;\n",
       "    }\n",
       "</style>\n",
       "<table border=\"1\" class=\"dataframe\">\n",
       "  <thead>\n",
       "    <tr style=\"text-align: right;\">\n",
       "      <th></th>\n",
       "      <th>일</th>\n",
       "      <th>이용승객수</th>\n",
       "    </tr>\n",
       "  </thead>\n",
       "  <tbody>\n",
       "    <tr>\n",
       "      <th>0</th>\n",
       "      <td>1</td>\n",
       "      <td>5777719</td>\n",
       "    </tr>\n",
       "    <tr>\n",
       "      <th>1</th>\n",
       "      <td>2</td>\n",
       "      <td>5859462</td>\n",
       "    </tr>\n",
       "    <tr>\n",
       "      <th>2</th>\n",
       "      <td>3</td>\n",
       "      <td>5801066</td>\n",
       "    </tr>\n",
       "    <tr>\n",
       "      <th>3</th>\n",
       "      <td>4</td>\n",
       "      <td>5917486</td>\n",
       "    </tr>\n",
       "    <tr>\n",
       "      <th>4</th>\n",
       "      <td>5</td>\n",
       "      <td>3552439</td>\n",
       "    </tr>\n",
       "  </tbody>\n",
       "</table>\n",
       "</div>"
      ],
      "text/plain": [
       "   일    이용승객수\n",
       "0  1  5777719\n",
       "1  2  5859462\n",
       "2  3  5801066\n",
       "3  4  5917486\n",
       "4  5  3552439"
      ]
     },
     "execution_count": 16,
     "metadata": {},
     "output_type": "execute_result"
    }
   ],
   "source": [
    "sub12['사용일자'] = pd.to_datetime(sub12['사용일자'],format='%Y%m%d')\n",
    "\n",
    "sub12['일'] = sub12['사용일자'].dt.day\n",
    "\n",
    "sub12_total = sub12.groupby('일')['승차총승객수'].sum().reset_index()\n",
    "\n",
    "sub12_total.columns = ['일', '이용승객수']\n",
    "\n",
    "sub12_total.head()"
   ]
  },
  {
   "cell_type": "markdown",
   "metadata": {},
   "source": [
    "## 코로나 데이터 전처리\n",
    "\n",
    "### 데이터 병합"
   ]
  },
  {
   "cell_type": "code",
   "execution_count": 17,
   "metadata": {},
   "outputs": [
    {
     "data": {
      "text/html": [
       "<div>\n",
       "<style scoped>\n",
       "    .dataframe tbody tr th:only-of-type {\n",
       "        vertical-align: middle;\n",
       "    }\n",
       "\n",
       "    .dataframe tbody tr th {\n",
       "        vertical-align: top;\n",
       "    }\n",
       "\n",
       "    .dataframe thead th {\n",
       "        text-align: right;\n",
       "    }\n",
       "</style>\n",
       "<table border=\"1\" class=\"dataframe\">\n",
       "  <thead>\n",
       "    <tr style=\"text-align: right;\">\n",
       "      <th></th>\n",
       "      <th>Date</th>\n",
       "    </tr>\n",
       "  </thead>\n",
       "  <tbody>\n",
       "    <tr>\n",
       "      <th>0</th>\n",
       "      <td>2021-02-03</td>\n",
       "    </tr>\n",
       "    <tr>\n",
       "      <th>1</th>\n",
       "      <td>2021-02-03</td>\n",
       "    </tr>\n",
       "    <tr>\n",
       "      <th>2</th>\n",
       "      <td>2021-02-03</td>\n",
       "    </tr>\n",
       "    <tr>\n",
       "      <th>3</th>\n",
       "      <td>2021-02-03</td>\n",
       "    </tr>\n",
       "    <tr>\n",
       "      <th>4</th>\n",
       "      <td>2021-02-03</td>\n",
       "    </tr>\n",
       "  </tbody>\n",
       "</table>\n",
       "</div>"
      ],
      "text/plain": [
       "         Date\n",
       "0  2021-02-03\n",
       "1  2021-02-03\n",
       "2  2021-02-03\n",
       "3  2021-02-03\n",
       "4  2021-02-03"
      ]
     },
     "execution_count": 17,
     "metadata": {},
     "output_type": "execute_result"
    }
   ],
   "source": [
    "covid_total = pd.concat([covid2, covid1], join='inner') # 총 데이터 기간 : 2020-1-24 ~ 2021-2-3\n",
    "covid_total.drop('Unnamed: 0', axis=1, inplace=True)  # Unnamed: 0 컬럼 삭제\n",
    "\n",
    "covid_total.head()"
   ]
  },
  {
   "cell_type": "code",
   "execution_count": 18,
   "metadata": {},
   "outputs": [
    {
     "data": {
      "text/html": [
       "<div>\n",
       "<style scoped>\n",
       "    .dataframe tbody tr th:only-of-type {\n",
       "        vertical-align: middle;\n",
       "    }\n",
       "\n",
       "    .dataframe tbody tr th {\n",
       "        vertical-align: top;\n",
       "    }\n",
       "\n",
       "    .dataframe thead th {\n",
       "        text-align: right;\n",
       "    }\n",
       "</style>\n",
       "<table border=\"1\" class=\"dataframe\">\n",
       "  <thead>\n",
       "    <tr style=\"text-align: right;\">\n",
       "      <th></th>\n",
       "      <th>Date</th>\n",
       "    </tr>\n",
       "  </thead>\n",
       "  <tbody>\n",
       "    <tr>\n",
       "      <th>9995</th>\n",
       "      <td>2020-01-31</td>\n",
       "    </tr>\n",
       "    <tr>\n",
       "      <th>9996</th>\n",
       "      <td>2020-01-30</td>\n",
       "    </tr>\n",
       "    <tr>\n",
       "      <th>9997</th>\n",
       "      <td>2020-01-30</td>\n",
       "    </tr>\n",
       "    <tr>\n",
       "      <th>9998</th>\n",
       "      <td>2020-01-30</td>\n",
       "    </tr>\n",
       "    <tr>\n",
       "      <th>9999</th>\n",
       "      <td>2020-01-24</td>\n",
       "    </tr>\n",
       "  </tbody>\n",
       "</table>\n",
       "</div>"
      ],
      "text/plain": [
       "            Date\n",
       "9995  2020-01-31\n",
       "9996  2020-01-30\n",
       "9997  2020-01-30\n",
       "9998  2020-01-30\n",
       "9999  2020-01-24"
      ]
     },
     "execution_count": 18,
     "metadata": {},
     "output_type": "execute_result"
    }
   ],
   "source": [
    "covid_total.tail()"
   ]
  },
  {
   "cell_type": "code",
   "execution_count": 19,
   "metadata": {},
   "outputs": [
    {
     "data": {
      "text/html": [
       "<div>\n",
       "<style scoped>\n",
       "    .dataframe tbody tr th:only-of-type {\n",
       "        vertical-align: middle;\n",
       "    }\n",
       "\n",
       "    .dataframe tbody tr th {\n",
       "        vertical-align: top;\n",
       "    }\n",
       "\n",
       "    .dataframe thead th {\n",
       "        text-align: right;\n",
       "    }\n",
       "</style>\n",
       "<table border=\"1\" class=\"dataframe\">\n",
       "  <thead>\n",
       "    <tr style=\"text-align: right;\">\n",
       "      <th></th>\n",
       "      <th>Date</th>\n",
       "      <th>년</th>\n",
       "      <th>월</th>\n",
       "      <th>일</th>\n",
       "    </tr>\n",
       "  </thead>\n",
       "  <tbody>\n",
       "    <tr>\n",
       "      <th>0</th>\n",
       "      <td>2021-02-03</td>\n",
       "      <td>2021</td>\n",
       "      <td>2</td>\n",
       "      <td>3</td>\n",
       "    </tr>\n",
       "    <tr>\n",
       "      <th>1</th>\n",
       "      <td>2021-02-03</td>\n",
       "      <td>2021</td>\n",
       "      <td>2</td>\n",
       "      <td>3</td>\n",
       "    </tr>\n",
       "    <tr>\n",
       "      <th>2</th>\n",
       "      <td>2021-02-03</td>\n",
       "      <td>2021</td>\n",
       "      <td>2</td>\n",
       "      <td>3</td>\n",
       "    </tr>\n",
       "    <tr>\n",
       "      <th>3</th>\n",
       "      <td>2021-02-03</td>\n",
       "      <td>2021</td>\n",
       "      <td>2</td>\n",
       "      <td>3</td>\n",
       "    </tr>\n",
       "    <tr>\n",
       "      <th>4</th>\n",
       "      <td>2021-02-03</td>\n",
       "      <td>2021</td>\n",
       "      <td>2</td>\n",
       "      <td>3</td>\n",
       "    </tr>\n",
       "  </tbody>\n",
       "</table>\n",
       "</div>"
      ],
      "text/plain": [
       "        Date     년  월  일\n",
       "0 2021-02-03  2021  2  3\n",
       "1 2021-02-03  2021  2  3\n",
       "2 2021-02-03  2021  2  3\n",
       "3 2021-02-03  2021  2  3\n",
       "4 2021-02-03  2021  2  3"
      ]
     },
     "execution_count": 19,
     "metadata": {},
     "output_type": "execute_result"
    }
   ],
   "source": [
    "covid_total['Date'] = pd.to_datetime(covid_total['Date'], format='%Y-%m-%d')\n",
    "\n",
    "covid_total['년'] = covid_total['Date'].dt.year\n",
    "covid_total['월'] = covid_total['Date'].dt.month\n",
    "covid_total['일'] = covid_total['Date'].dt.day\n",
    "\n",
    "covid_total.head()"
   ]
  },
  {
   "cell_type": "markdown",
   "metadata": {},
   "source": [
    "### 날짜 정렬 및 월별 분할"
   ]
  },
  {
   "cell_type": "code",
   "execution_count": 20,
   "metadata": {},
   "outputs": [
    {
     "name": "stdout",
     "output_type": "stream",
     "text": [
      "24754\n"
     ]
    },
    {
     "data": {
      "text/html": [
       "<div>\n",
       "<style scoped>\n",
       "    .dataframe tbody tr th:only-of-type {\n",
       "        vertical-align: middle;\n",
       "    }\n",
       "\n",
       "    .dataframe tbody tr th {\n",
       "        vertical-align: top;\n",
       "    }\n",
       "\n",
       "    .dataframe thead th {\n",
       "        text-align: right;\n",
       "    }\n",
       "</style>\n",
       "<table border=\"1\" class=\"dataframe\">\n",
       "  <thead>\n",
       "    <tr style=\"text-align: right;\">\n",
       "      <th></th>\n",
       "      <th>Date</th>\n",
       "      <th>년</th>\n",
       "      <th>월</th>\n",
       "      <th>일</th>\n",
       "    </tr>\n",
       "  </thead>\n",
       "  <tbody>\n",
       "    <tr>\n",
       "      <th>0</th>\n",
       "      <td>2020-01-24</td>\n",
       "      <td>2020</td>\n",
       "      <td>1</td>\n",
       "      <td>24</td>\n",
       "    </tr>\n",
       "    <tr>\n",
       "      <th>1</th>\n",
       "      <td>2020-01-30</td>\n",
       "      <td>2020</td>\n",
       "      <td>1</td>\n",
       "      <td>30</td>\n",
       "    </tr>\n",
       "    <tr>\n",
       "      <th>2</th>\n",
       "      <td>2020-01-30</td>\n",
       "      <td>2020</td>\n",
       "      <td>1</td>\n",
       "      <td>30</td>\n",
       "    </tr>\n",
       "    <tr>\n",
       "      <th>3</th>\n",
       "      <td>2020-01-30</td>\n",
       "      <td>2020</td>\n",
       "      <td>1</td>\n",
       "      <td>30</td>\n",
       "    </tr>\n",
       "    <tr>\n",
       "      <th>4</th>\n",
       "      <td>2020-01-31</td>\n",
       "      <td>2020</td>\n",
       "      <td>1</td>\n",
       "      <td>31</td>\n",
       "    </tr>\n",
       "  </tbody>\n",
       "</table>\n",
       "</div>"
      ],
      "text/plain": [
       "        Date     년  월   일\n",
       "0 2020-01-24  2020  1  24\n",
       "1 2020-01-30  2020  1  30\n",
       "2 2020-01-30  2020  1  30\n",
       "3 2020-01-30  2020  1  30\n",
       "4 2020-01-31  2020  1  31"
      ]
     },
     "execution_count": 20,
     "metadata": {},
     "output_type": "execute_result"
    }
   ],
   "source": [
    "covid_total = covid_total.sort_values(by=[\"년\",\"월\",\"일\"], ascending=[True,True,True]).reset_index(drop =True)\n",
    "\n",
    "print(covid_total['Date'].count()) # 총 데이터 개수 - 24754개\n",
    "\n",
    "covid_total.head()"
   ]
  },
  {
   "cell_type": "code",
   "execution_count": 21,
   "metadata": {},
   "outputs": [],
   "source": [
    "# covid[covid['년'] == 2020].count() # 2020년 데이터 - 19389개\n",
    "# covid[covid['년'] == 2021].count() # 2020년 데이터 - 5365개\n",
    "covid11 = covid_total[(covid_total['년'] ==2020) & (covid_total['월'] == 11)] # 2020년 11월 데이터\n",
    "covid12 = covid_total[(covid_total['년'] ==2020) & (covid_total['월'] == 12)] # 2020년 12월 데이터"
   ]
  },
  {
   "cell_type": "markdown",
   "metadata": {},
   "source": [
    "### 일별 확진자 수 count"
   ]
  },
  {
   "cell_type": "code",
   "execution_count": 22,
   "metadata": {},
   "outputs": [
    {
     "data": {
      "text/html": [
       "<div>\n",
       "<style scoped>\n",
       "    .dataframe tbody tr th:only-of-type {\n",
       "        vertical-align: middle;\n",
       "    }\n",
       "\n",
       "    .dataframe tbody tr th {\n",
       "        vertical-align: top;\n",
       "    }\n",
       "\n",
       "    .dataframe thead th {\n",
       "        text-align: right;\n",
       "    }\n",
       "</style>\n",
       "<table border=\"1\" class=\"dataframe\">\n",
       "  <thead>\n",
       "    <tr style=\"text-align: right;\">\n",
       "      <th></th>\n",
       "      <th>일</th>\n",
       "      <th>확진자 수</th>\n",
       "    </tr>\n",
       "  </thead>\n",
       "  <tbody>\n",
       "    <tr>\n",
       "      <th>0</th>\n",
       "      <td>1</td>\n",
       "      <td>25</td>\n",
       "    </tr>\n",
       "    <tr>\n",
       "      <th>1</th>\n",
       "      <td>2</td>\n",
       "      <td>22</td>\n",
       "    </tr>\n",
       "    <tr>\n",
       "      <th>2</th>\n",
       "      <td>3</td>\n",
       "      <td>43</td>\n",
       "    </tr>\n",
       "    <tr>\n",
       "      <th>3</th>\n",
       "      <td>4</td>\n",
       "      <td>49</td>\n",
       "    </tr>\n",
       "    <tr>\n",
       "      <th>4</th>\n",
       "      <td>5</td>\n",
       "      <td>40</td>\n",
       "    </tr>\n",
       "  </tbody>\n",
       "</table>\n",
       "</div>"
      ],
      "text/plain": [
       "   일  확진자 수\n",
       "0  1     25\n",
       "1  2     22\n",
       "2  3     43\n",
       "3  4     49\n",
       "4  5     40"
      ]
     },
     "execution_count": 22,
     "metadata": {},
     "output_type": "execute_result"
    }
   ],
   "source": [
    "covid11_new = covid11.groupby('일').count()\n",
    "\n",
    "# 년, 월 컬럼 삭제\n",
    "covid11_new.drop(['년', '월'], axis = 1, inplace = True)\n",
    "\n",
    "# 컬럼명 '확진자 수'로 변경\n",
    "covid11_new.columns.values[0] = \"확진자 수\"\n",
    "\n",
    "# 컬럼 인덱스 리셋\n",
    "covid11_new = covid11_new.reset_index()\n",
    "\n",
    "covid11_new.head()"
   ]
  },
  {
   "cell_type": "code",
   "execution_count": 23,
   "metadata": {},
   "outputs": [
    {
     "data": {
      "text/html": [
       "<div>\n",
       "<style scoped>\n",
       "    .dataframe tbody tr th:only-of-type {\n",
       "        vertical-align: middle;\n",
       "    }\n",
       "\n",
       "    .dataframe tbody tr th {\n",
       "        vertical-align: top;\n",
       "    }\n",
       "\n",
       "    .dataframe thead th {\n",
       "        text-align: right;\n",
       "    }\n",
       "</style>\n",
       "<table border=\"1\" class=\"dataframe\">\n",
       "  <thead>\n",
       "    <tr style=\"text-align: right;\">\n",
       "      <th></th>\n",
       "      <th>일</th>\n",
       "      <th>확진자 수</th>\n",
       "    </tr>\n",
       "  </thead>\n",
       "  <tbody>\n",
       "    <tr>\n",
       "      <th>0</th>\n",
       "      <td>1</td>\n",
       "      <td>200</td>\n",
       "    </tr>\n",
       "    <tr>\n",
       "      <th>1</th>\n",
       "      <td>2</td>\n",
       "      <td>261</td>\n",
       "    </tr>\n",
       "    <tr>\n",
       "      <th>2</th>\n",
       "      <td>3</td>\n",
       "      <td>296</td>\n",
       "    </tr>\n",
       "    <tr>\n",
       "      <th>3</th>\n",
       "      <td>4</td>\n",
       "      <td>235</td>\n",
       "    </tr>\n",
       "    <tr>\n",
       "      <th>4</th>\n",
       "      <td>5</td>\n",
       "      <td>243</td>\n",
       "    </tr>\n",
       "  </tbody>\n",
       "</table>\n",
       "</div>"
      ],
      "text/plain": [
       "   일  확진자 수\n",
       "0  1    200\n",
       "1  2    261\n",
       "2  3    296\n",
       "3  4    235\n",
       "4  5    243"
      ]
     },
     "execution_count": 23,
     "metadata": {},
     "output_type": "execute_result"
    }
   ],
   "source": [
    "covid12_new = covid12.groupby('일').count()\n",
    "\n",
    "# 년, 월 컬럼 삭제\n",
    "covid12_new.drop(['년', '월'], axis = 1, inplace = True)\n",
    "\n",
    "# 컬럼명 '확진자 수'로 변경\n",
    "covid12_new.columns.values[0] = \"확진자 수\"\n",
    "\n",
    "# 컬럼 인덱스 리셋\n",
    "covid12_new = covid12_new.reset_index()\n",
    "\n",
    "covid12_new.head()"
   ]
  },
  {
   "cell_type": "code",
   "execution_count": 24,
   "metadata": {},
   "outputs": [
    {
     "data": {
      "text/plain": [
       "Date    296\n",
       "년       296\n",
       "월       296\n",
       "일       296\n",
       "dtype: int64"
      ]
     },
     "execution_count": 24,
     "metadata": {},
     "output_type": "execute_result"
    }
   ],
   "source": [
    "covid12[covid12['일'] == 3].count() # 위 데이터 프레임이 제대로 만들어 졌는지 검증 코드"
   ]
  },
  {
   "cell_type": "markdown",
   "metadata": {},
   "source": [
    "## 일별 승차승객수"
   ]
  },
  {
   "cell_type": "markdown",
   "metadata": {},
   "source": [
    "### 2019년, 2020년 11-12월 대중교통 이용 승객수 그래프\n",
    "=> 지하철 이용량이 버스 이용량보다 많음"
   ]
  },
  {
   "cell_type": "code",
   "execution_count": 78,
   "metadata": {},
   "outputs": [
    {
     "data": {
      "text/plain": [
       "Text(0.5, 1.0, '2020년 12월 대중교통 이용 승객수')"
      ]
     },
     "execution_count": 78,
     "metadata": {},
     "output_type": "execute_result"
    },
    {
     "data": {
      "image/png": "[encoded data removed]",
      "text/plain": [
       "<Figure size 1152x720 with 4 Axes>"
      ]
     },
     "metadata": {
      "needs_background": "light"
     },
     "output_type": "display_data"
    }
   ],
   "source": [
    "plt.figure(figsize=(16, 10))\n",
    "\n",
    "plt.subplot(221)\n",
    "plt.ylim([3000000, 10000000])\n",
    "sns.lineplot(data = sub_11t, x = \"일\", y = \"이용승객수\", color = \"lightblue\")\n",
    "sns.lineplot(data = bus_11t, x = \"일\", y = \"이용승객수\", color = \"lightgreen\")\n",
    "plt.title(\"2019년 11월 대중교통 이용 승객수\")\n",
    "\n",
    "plt.subplot(222)\n",
    "plt.ylim([3000000, 10000000])\n",
    "sns.lineplot(data = sub_12t, x = \"일\", y = \"이용승객수\",  color = \"lightblue\")\n",
    "sns.lineplot(data = bus_12t, x = \"일\", y = \"이용승객수\",  color = \"lightgreen\")\n",
    "plt.title(\"2019년 12월 대중교통 이용 승객수\")\n",
    "\n",
    "plt.subplot(223)\n",
    "plt.ylim([3000000, 10000000])\n",
    "sns.lineplot(data = sub11_total, x = \"일\", y = \"이용승객수\",  color = \"lightblue\")\n",
    "sns.lineplot(data = bus11_total, x = \"일\", y = \"이용승객수\",  color = \"lightgreen\")\n",
    "plt.title(\"2020년 11월 대중교통 이용 승객수\")\n",
    "\n",
    "plt.subplot(224)\n",
    "plt.ylim([3000000, 10000000])\n",
    "sns.lineplot(data = sub12_total, x = \"일\", y = \"이용승객수\",  color = \"lightblue\")\n",
    "sns.lineplot(data = bus12_total, x = \"일\", y = \"이용승객수\",  color = \"lightgreen\")\n",
    "plt.title(\"2020년 12월 대중교통 이용 승객수\")\n"
   ]
  },
  {
   "cell_type": "markdown",
   "metadata": {},
   "source": [
    "### 코로나 확진자 수와 대중교통 이용 승객수의 차이가 커서 한 그래프에 표현하여 비교하기 어려움\n",
    "=> 정규화 사용"
   ]
  },
  {
   "cell_type": "code",
   "execution_count": 26,
   "metadata": {},
   "outputs": [],
   "source": [
    "# 0~1로 정규화하는 함수\n",
    "\n",
    "def Normalization(df, nValue, val) :\n",
    "    df[nValue] = (df[val]-df[val].min())/(df[val].max()-df[val].min())"
   ]
  },
  {
   "cell_type": "code",
   "execution_count": 27,
   "metadata": {},
   "outputs": [],
   "source": [
    "# 2020년 대중교통\n",
    "Normalization(bus11_total, '정규화_이용승객수', '이용승객수')\n",
    "Normalization(bus12_total, '정규화_이용승객수', '이용승객수')\n",
    "\n",
    "Normalization(sub11_total, '정규화_이용승객수', '이용승객수')\n",
    "Normalization(sub12_total, '정규화_이용승객수', '이용승객수')\n",
    "\n",
    "# 코로나\n",
    "Normalization(covid11_new, '정규화', '확진자 수')\n",
    "Normalization(covid12_new, '정규화', '확진자 수')"
   ]
  },
  {
   "cell_type": "markdown",
   "metadata": {},
   "source": [
    "### 2020년 코로나 확진자 수와 대중교통 이용량"
   ]
  },
  {
   "cell_type": "markdown",
   "metadata": {},
   "source": [
    "#### 파랑 : 지하철, 초록 : 버스, 빨강 : 코로나"
   ]
  },
  {
   "cell_type": "code",
   "execution_count": 28,
   "metadata": {},
   "outputs": [
    {
     "data": {
      "text/plain": [
       "<matplotlib.axes._subplots.AxesSubplot at 0x20fc731afd0>"
      ]
     },
     "execution_count": 28,
     "metadata": {},
     "output_type": "execute_result"
    },
    {
     "data": {
      "image/png": "[encoded data removed]",
      "text/plain": [
       "<Figure size 648x720 with 2 Axes>"
      ]
     },
     "metadata": {
      "needs_background": "light"
     },
     "output_type": "display_data"
    }
   ],
   "source": [
    "fig,(ax1,ax2) = plt.subplots(nrows = 2)\n",
    "fig.set_size_inches(9,10)\n",
    "\n",
    "ax1.set(title=\"2020년 11월 일자별 확진자 & 승객수\")\n",
    "ax2.set(title=\"2020년 12월 일자별 확진자 & 승객수\")\n",
    "\n",
    "sns.pointplot(data=sub11_total, x=\"일\", y=\"정규화_이용승객수\", ax=ax1, color='lightblue')\n",
    "sns.pointplot(data=bus11_total, x=\"일\", y=\"정규화_이용승객수\", ax=ax1, color='lightgreen')\n",
    "sns.pointplot(data=covid11_new, x=\"일\", y=\"정규화\", ax=ax1, color='red')\n",
    "\n",
    "sns.pointplot(data=sub12_total, x=\"일\", y=\"정규화_이용승객수\", ax=ax2, color='lightblue')\n",
    "sns.pointplot(data=bus12_total, x=\"일\", y=\"정규화_이용승객수\", ax=ax2, color='lightgreen')\n",
    "sns.pointplot(data=covid12_new, x=\"일\", y=\"정규화\", ax=ax2, color='red')"
   ]
  }
 ],
 "metadata": {
  "kernelspec": {
   "display_name": "Python 3",
   "language": "python",
   "name": "python3"
  },
  "language_info": {
   "codemirror_mode": {
    "name": "ipython",
    "version": 3
   },
   "file_extension": ".py",
   "mimetype": "text/x-python",
   "name": "python",
   "nbconvert_exporter": "python",
   "pygments_lexer": "ipython3",
   "version": "3.9.1"
  }
 },
 "nbformat": 4,
 "nbformat_minor": 2
}
